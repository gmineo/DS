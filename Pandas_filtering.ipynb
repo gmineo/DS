{
  "nbformat": 4,
  "nbformat_minor": 0,
  "metadata": {
    "colab": {
      "name": "Pandas_filtering.ipynb",
      "provenance": [],
      "collapsed_sections": [],
      "authorship_tag": "ABX9TyOLMQqY9sOb6H3yB9K43mtw",
      "include_colab_link": true
    },
    "kernelspec": {
      "name": "python3",
      "display_name": "Python 3"
    }
  },
  "cells": [
    {
      "cell_type": "markdown",
      "metadata": {
        "id": "view-in-github",
        "colab_type": "text"
      },
      "source": [
        "<a href=\"https://colab.research.google.com/github/yuanjinren/DS/blob/master/Pandas_filtering.ipynb\" target=\"_parent\"><img src=\"https://colab.research.google.com/assets/colab-badge.svg\" alt=\"Open In Colab\"/></a>"
      ]
    },
    {
      "cell_type": "code",
      "metadata": {
        "id": "afzAxo9RSo4n",
        "colab_type": "code",
        "colab": {}
      },
      "source": [
        "import pandas as pd\n",
        "url = 'https://drive.google.com/uc?export=download&id=1fL7KPyxgGYfQDsuJoBWHIWwCAf-HTFpX'\n",
        "df = pd.read_csv(url)"
      ],
      "execution_count": 0,
      "outputs": []
    },
    {
      "cell_type": "code",
      "metadata": {
        "id": "118eoFFFS_z8",
        "colab_type": "code",
        "outputId": "a328ba1c-8ae0-4d3a-d791-ab4c1a963204",
        "colab": {
          "base_uri": "https://localhost:8080/",
          "height": 340
        }
      },
      "source": [
        "df.head()"
      ],
      "execution_count": 0,
      "outputs": [
        {
          "output_type": "execute_result",
          "data": {
            "text/html": [
              "<div>\n",
              "<style scoped>\n",
              "    .dataframe tbody tr th:only-of-type {\n",
              "        vertical-align: middle;\n",
              "    }\n",
              "\n",
              "    .dataframe tbody tr th {\n",
              "        vertical-align: top;\n",
              "    }\n",
              "\n",
              "    .dataframe thead th {\n",
              "        text-align: right;\n",
              "    }\n",
              "</style>\n",
              "<table border=\"1\" class=\"dataframe\">\n",
              "  <thead>\n",
              "    <tr style=\"text-align: right;\">\n",
              "      <th></th>\n",
              "      <th>game_event_id</th>\n",
              "      <th>player_name</th>\n",
              "      <th>period</th>\n",
              "      <th>minutes_remaining</th>\n",
              "      <th>seconds_remaining</th>\n",
              "      <th>action_type</th>\n",
              "      <th>shot_type</th>\n",
              "      <th>shot_zone_basic</th>\n",
              "      <th>shot_zone_area</th>\n",
              "      <th>shot_zone_range</th>\n",
              "      <th>shot_distance</th>\n",
              "      <th>loc_x</th>\n",
              "      <th>loc_y</th>\n",
              "      <th>shot_made_flag</th>\n",
              "      <th>game_date</th>\n",
              "      <th>htm</th>\n",
              "      <th>vtm</th>\n",
              "      <th>season_type</th>\n",
              "      <th>scoremargin_before_shot</th>\n",
              "    </tr>\n",
              "    <tr>\n",
              "      <th>game_id</th>\n",
              "      <th></th>\n",
              "      <th></th>\n",
              "      <th></th>\n",
              "      <th></th>\n",
              "      <th></th>\n",
              "      <th></th>\n",
              "      <th></th>\n",
              "      <th></th>\n",
              "      <th></th>\n",
              "      <th></th>\n",
              "      <th></th>\n",
              "      <th></th>\n",
              "      <th></th>\n",
              "      <th></th>\n",
              "      <th></th>\n",
              "      <th></th>\n",
              "      <th></th>\n",
              "      <th></th>\n",
              "      <th></th>\n",
              "    </tr>\n",
              "  </thead>\n",
              "  <tbody>\n",
              "    <tr>\n",
              "      <th>20900015</th>\n",
              "      <td>4</td>\n",
              "      <td>Stephen Curry</td>\n",
              "      <td>1</td>\n",
              "      <td>11</td>\n",
              "      <td>25</td>\n",
              "      <td>Jump Shot</td>\n",
              "      <td>3PT Field Goal</td>\n",
              "      <td>Above the Break 3</td>\n",
              "      <td>Right Side Center(RC)</td>\n",
              "      <td>24+ ft.</td>\n",
              "      <td>26</td>\n",
              "      <td>99</td>\n",
              "      <td>249</td>\n",
              "      <td>0</td>\n",
              "      <td>2009-10-28</td>\n",
              "      <td>GSW</td>\n",
              "      <td>HOU</td>\n",
              "      <td>Regular Season</td>\n",
              "      <td>2.0</td>\n",
              "    </tr>\n",
              "    <tr>\n",
              "      <th>20900015</th>\n",
              "      <td>17</td>\n",
              "      <td>Stephen Curry</td>\n",
              "      <td>1</td>\n",
              "      <td>9</td>\n",
              "      <td>31</td>\n",
              "      <td>Step Back Jump shot</td>\n",
              "      <td>2PT Field Goal</td>\n",
              "      <td>Mid-Range</td>\n",
              "      <td>Left Side Center(LC)</td>\n",
              "      <td>16-24 ft.</td>\n",
              "      <td>18</td>\n",
              "      <td>-122</td>\n",
              "      <td>145</td>\n",
              "      <td>1</td>\n",
              "      <td>2009-10-28</td>\n",
              "      <td>GSW</td>\n",
              "      <td>HOU</td>\n",
              "      <td>Regular Season</td>\n",
              "      <td>0.0</td>\n",
              "    </tr>\n",
              "    <tr>\n",
              "      <th>20900015</th>\n",
              "      <td>53</td>\n",
              "      <td>Stephen Curry</td>\n",
              "      <td>1</td>\n",
              "      <td>6</td>\n",
              "      <td>2</td>\n",
              "      <td>Jump Shot</td>\n",
              "      <td>2PT Field Goal</td>\n",
              "      <td>In The Paint (Non-RA)</td>\n",
              "      <td>Center(C)</td>\n",
              "      <td>8-16 ft.</td>\n",
              "      <td>14</td>\n",
              "      <td>-60</td>\n",
              "      <td>129</td>\n",
              "      <td>0</td>\n",
              "      <td>2009-10-28</td>\n",
              "      <td>GSW</td>\n",
              "      <td>HOU</td>\n",
              "      <td>Regular Season</td>\n",
              "      <td>-4.0</td>\n",
              "    </tr>\n",
              "    <tr>\n",
              "      <th>20900015</th>\n",
              "      <td>141</td>\n",
              "      <td>Stephen Curry</td>\n",
              "      <td>2</td>\n",
              "      <td>9</td>\n",
              "      <td>49</td>\n",
              "      <td>Jump Shot</td>\n",
              "      <td>2PT Field Goal</td>\n",
              "      <td>Mid-Range</td>\n",
              "      <td>Left Side(L)</td>\n",
              "      <td>16-24 ft.</td>\n",
              "      <td>19</td>\n",
              "      <td>-172</td>\n",
              "      <td>82</td>\n",
              "      <td>0</td>\n",
              "      <td>2009-10-28</td>\n",
              "      <td>GSW</td>\n",
              "      <td>HOU</td>\n",
              "      <td>Regular Season</td>\n",
              "      <td>-4.0</td>\n",
              "    </tr>\n",
              "    <tr>\n",
              "      <th>20900015</th>\n",
              "      <td>249</td>\n",
              "      <td>Stephen Curry</td>\n",
              "      <td>2</td>\n",
              "      <td>2</td>\n",
              "      <td>19</td>\n",
              "      <td>Jump Shot</td>\n",
              "      <td>2PT Field Goal</td>\n",
              "      <td>Mid-Range</td>\n",
              "      <td>Left Side Center(LC)</td>\n",
              "      <td>16-24 ft.</td>\n",
              "      <td>16</td>\n",
              "      <td>-68</td>\n",
              "      <td>148</td>\n",
              "      <td>0</td>\n",
              "      <td>2009-10-28</td>\n",
              "      <td>GSW</td>\n",
              "      <td>HOU</td>\n",
              "      <td>Regular Season</td>\n",
              "      <td>0.0</td>\n",
              "    </tr>\n",
              "  </tbody>\n",
              "</table>\n",
              "</div>"
            ],
            "text/plain": [
              "          game_event_id    player_name  ...     season_type  scoremargin_before_shot\n",
              "game_id                                 ...                                         \n",
              "20900015              4  Stephen Curry  ...  Regular Season                      2.0\n",
              "20900015             17  Stephen Curry  ...  Regular Season                      0.0\n",
              "20900015             53  Stephen Curry  ...  Regular Season                     -4.0\n",
              "20900015            141  Stephen Curry  ...  Regular Season                     -4.0\n",
              "20900015            249  Stephen Curry  ...  Regular Season                      0.0\n",
              "\n",
              "[5 rows x 19 columns]"
            ]
          },
          "metadata": {
            "tags": []
          },
          "execution_count": 16
        }
      ]
    },
    {
      "cell_type": "code",
      "metadata": {
        "id": "huQbEgZPyg0j",
        "colab_type": "code",
        "colab": {
          "base_uri": "https://localhost:8080/",
          "height": 230
        },
        "outputId": "e2364362-8ff6-43cc-bcfa-4c7c9616a94a"
      },
      "source": [
        "df.nlargest(3,'shot_distance')"
      ],
      "execution_count": 92,
      "outputs": [
        {
          "output_type": "execute_result",
          "data": {
            "text/html": [
              "<div>\n",
              "<style scoped>\n",
              "    .dataframe tbody tr th:only-of-type {\n",
              "        vertical-align: middle;\n",
              "    }\n",
              "\n",
              "    .dataframe tbody tr th {\n",
              "        vertical-align: top;\n",
              "    }\n",
              "\n",
              "    .dataframe thead th {\n",
              "        text-align: right;\n",
              "    }\n",
              "</style>\n",
              "<table border=\"1\" class=\"dataframe\">\n",
              "  <thead>\n",
              "    <tr style=\"text-align: right;\">\n",
              "      <th></th>\n",
              "      <th>game_id</th>\n",
              "      <th>game_event_id</th>\n",
              "      <th>player_name</th>\n",
              "      <th>period</th>\n",
              "      <th>minutes_remaining</th>\n",
              "      <th>seconds_remaining</th>\n",
              "      <th>action_type</th>\n",
              "      <th>shot_type</th>\n",
              "      <th>shot_zone_basic</th>\n",
              "      <th>shot_zone_area</th>\n",
              "      <th>shot_zone_range</th>\n",
              "      <th>shot_distance</th>\n",
              "      <th>loc_x</th>\n",
              "      <th>loc_y</th>\n",
              "      <th>shot_made_flag</th>\n",
              "      <th>game_date</th>\n",
              "      <th>htm</th>\n",
              "      <th>vtm</th>\n",
              "      <th>season_type</th>\n",
              "      <th>scoremargin_before_shot</th>\n",
              "      <th>First Name</th>\n",
              "      <th>Last Name</th>\n",
              "    </tr>\n",
              "  </thead>\n",
              "  <tbody>\n",
              "    <tr>\n",
              "      <th>9113</th>\n",
              "      <td>41500313</td>\n",
              "      <td>304</td>\n",
              "      <td>Stephen Curry</td>\n",
              "      <td>2</td>\n",
              "      <td>0</td>\n",
              "      <td>0</td>\n",
              "      <td>Jump Shot</td>\n",
              "      <td>3PT Field Goal</td>\n",
              "      <td>Backcourt</td>\n",
              "      <td>Back Court(BC)</td>\n",
              "      <td>Back Court Shot</td>\n",
              "      <td>83</td>\n",
              "      <td>-187</td>\n",
              "      <td>811</td>\n",
              "      <td>0</td>\n",
              "      <td>2016-05-22</td>\n",
              "      <td>OKC</td>\n",
              "      <td>GSW</td>\n",
              "      <td>Playoffs</td>\n",
              "      <td>-25.0</td>\n",
              "      <td>NaN</td>\n",
              "      <td>NaN</td>\n",
              "    </tr>\n",
              "    <tr>\n",
              "      <th>6184</th>\n",
              "      <td>21400571</td>\n",
              "      <td>218</td>\n",
              "      <td>Stephen Curry</td>\n",
              "      <td>2</td>\n",
              "      <td>0</td>\n",
              "      <td>0</td>\n",
              "      <td>Jump Shot</td>\n",
              "      <td>3PT Field Goal</td>\n",
              "      <td>Backcourt</td>\n",
              "      <td>Back Court(BC)</td>\n",
              "      <td>Back Court Shot</td>\n",
              "      <td>78</td>\n",
              "      <td>-187</td>\n",
              "      <td>758</td>\n",
              "      <td>0</td>\n",
              "      <td>2015-01-13</td>\n",
              "      <td>UTA</td>\n",
              "      <td>GSW</td>\n",
              "      <td>Regular Season</td>\n",
              "      <td>-0.0</td>\n",
              "      <td>NaN</td>\n",
              "      <td>NaN</td>\n",
              "    </tr>\n",
              "    <tr>\n",
              "      <th>7958</th>\n",
              "      <td>21500438</td>\n",
              "      <td>277</td>\n",
              "      <td>Stephen Curry</td>\n",
              "      <td>2</td>\n",
              "      <td>0</td>\n",
              "      <td>1</td>\n",
              "      <td>Jump Shot</td>\n",
              "      <td>3PT Field Goal</td>\n",
              "      <td>Backcourt</td>\n",
              "      <td>Back Court(BC)</td>\n",
              "      <td>Back Court Shot</td>\n",
              "      <td>71</td>\n",
              "      <td>0</td>\n",
              "      <td>712</td>\n",
              "      <td>0</td>\n",
              "      <td>2015-12-25</td>\n",
              "      <td>GSW</td>\n",
              "      <td>CLE</td>\n",
              "      <td>Regular Season</td>\n",
              "      <td>3.0</td>\n",
              "      <td>NaN</td>\n",
              "      <td>NaN</td>\n",
              "    </tr>\n",
              "  </tbody>\n",
              "</table>\n",
              "</div>"
            ],
            "text/plain": [
              "       game_id  game_event_id  ... First Name  Last Name\n",
              "9113  41500313            304  ...        NaN        NaN\n",
              "6184  21400571            218  ...        NaN        NaN\n",
              "7958  21500438            277  ...        NaN        NaN\n",
              "\n",
              "[3 rows x 22 columns]"
            ]
          },
          "metadata": {
            "tags": []
          },
          "execution_count": 92
        }
      ]
    },
    {
      "cell_type": "code",
      "metadata": {
        "id": "IjWAUzCIytwI",
        "colab_type": "code",
        "colab": {
          "base_uri": "https://localhost:8080/",
          "height": 204
        },
        "outputId": "e78ce2c7-df68-4ed5-9a7a-2c89d88b3abc"
      },
      "source": [
        "df['shot_distance'].nlargest(10)"
      ],
      "execution_count": 94,
      "outputs": [
        {
          "output_type": "execute_result",
          "data": {
            "text/plain": [
              "9113     83\n",
              "6184     78\n",
              "7958     71\n",
              "9729     71\n",
              "9918     71\n",
              "10762    71\n",
              "12797    71\n",
              "1017     70\n",
              "2945     70\n",
              "8574     69\n",
              "Name: shot_distance, dtype: int64"
            ]
          },
          "metadata": {
            "tags": []
          },
          "execution_count": 94
        }
      ]
    },
    {
      "cell_type": "code",
      "metadata": {
        "id": "--VbEc9xhYve",
        "colab_type": "code",
        "colab": {}
      },
      "source": [
        "cond = (df['action_type']=='Jump Shot') | (df['action_type']=='Step Back Jump shot')"
      ],
      "execution_count": 0,
      "outputs": []
    },
    {
      "cell_type": "code",
      "metadata": {
        "id": "w6SC19B_iC5z",
        "colab_type": "code",
        "colab": {
          "base_uri": "https://localhost:8080/",
          "height": 419
        },
        "outputId": "007b381b-7610-4374-9ec6-bd65ac59a5aa"
      },
      "source": [
        "df.loc[cond, ('action_type','minutes_remaining')]"
      ],
      "execution_count": 10,
      "outputs": [
        {
          "output_type": "execute_result",
          "data": {
            "text/html": [
              "<div>\n",
              "<style scoped>\n",
              "    .dataframe tbody tr th:only-of-type {\n",
              "        vertical-align: middle;\n",
              "    }\n",
              "\n",
              "    .dataframe tbody tr th {\n",
              "        vertical-align: top;\n",
              "    }\n",
              "\n",
              "    .dataframe thead th {\n",
              "        text-align: right;\n",
              "    }\n",
              "</style>\n",
              "<table border=\"1\" class=\"dataframe\">\n",
              "  <thead>\n",
              "    <tr style=\"text-align: right;\">\n",
              "      <th></th>\n",
              "      <th>action_type</th>\n",
              "      <th>minutes_remaining</th>\n",
              "    </tr>\n",
              "  </thead>\n",
              "  <tbody>\n",
              "    <tr>\n",
              "      <th>0</th>\n",
              "      <td>Jump Shot</td>\n",
              "      <td>11</td>\n",
              "    </tr>\n",
              "    <tr>\n",
              "      <th>1</th>\n",
              "      <td>Step Back Jump shot</td>\n",
              "      <td>9</td>\n",
              "    </tr>\n",
              "    <tr>\n",
              "      <th>2</th>\n",
              "      <td>Jump Shot</td>\n",
              "      <td>6</td>\n",
              "    </tr>\n",
              "    <tr>\n",
              "      <th>3</th>\n",
              "      <td>Jump Shot</td>\n",
              "      <td>9</td>\n",
              "    </tr>\n",
              "    <tr>\n",
              "      <th>4</th>\n",
              "      <td>Jump Shot</td>\n",
              "      <td>2</td>\n",
              "    </tr>\n",
              "    <tr>\n",
              "      <th>...</th>\n",
              "      <td>...</td>\n",
              "      <td>...</td>\n",
              "    </tr>\n",
              "    <tr>\n",
              "      <th>13943</th>\n",
              "      <td>Jump Shot</td>\n",
              "      <td>7</td>\n",
              "    </tr>\n",
              "    <tr>\n",
              "      <th>13944</th>\n",
              "      <td>Jump Shot</td>\n",
              "      <td>7</td>\n",
              "    </tr>\n",
              "    <tr>\n",
              "      <th>13946</th>\n",
              "      <td>Jump Shot</td>\n",
              "      <td>6</td>\n",
              "    </tr>\n",
              "    <tr>\n",
              "      <th>13955</th>\n",
              "      <td>Step Back Jump shot</td>\n",
              "      <td>5</td>\n",
              "    </tr>\n",
              "    <tr>\n",
              "      <th>13957</th>\n",
              "      <td>Jump Shot</td>\n",
              "      <td>2</td>\n",
              "    </tr>\n",
              "  </tbody>\n",
              "</table>\n",
              "<p>7589 rows × 2 columns</p>\n",
              "</div>"
            ],
            "text/plain": [
              "               action_type  minutes_remaining\n",
              "0                Jump Shot                 11\n",
              "1      Step Back Jump shot                  9\n",
              "2                Jump Shot                  6\n",
              "3                Jump Shot                  9\n",
              "4                Jump Shot                  2\n",
              "...                    ...                ...\n",
              "13943            Jump Shot                  7\n",
              "13944            Jump Shot                  7\n",
              "13946            Jump Shot                  6\n",
              "13955  Step Back Jump shot                  5\n",
              "13957            Jump Shot                  2\n",
              "\n",
              "[7589 rows x 2 columns]"
            ]
          },
          "metadata": {
            "tags": []
          },
          "execution_count": 10
        }
      ]
    },
    {
      "cell_type": "code",
      "metadata": {
        "id": "i0uoTqIiiYg2",
        "colab_type": "code",
        "colab": {}
      },
      "source": [
        "list = ['Right Side Center(RC)', 'Left Side Center(LC)', 'Center(C)']"
      ],
      "execution_count": 0,
      "outputs": []
    },
    {
      "cell_type": "code",
      "metadata": {
        "id": "HiM275jajJaq",
        "colab_type": "code",
        "colab": {}
      },
      "source": [
        "cond1 = df['shot_zone_area'].isin(list)"
      ],
      "execution_count": 0,
      "outputs": []
    },
    {
      "cell_type": "code",
      "metadata": {
        "id": "st32wlk8jklW",
        "colab_type": "code",
        "colab": {
          "base_uri": "https://localhost:8080/",
          "height": 419
        },
        "outputId": "a063f67b-d541-4f12-f90c-890d620a264e"
      },
      "source": [
        "df.loc[cond1,('action_type','shot_zone_area')]"
      ],
      "execution_count": 16,
      "outputs": [
        {
          "output_type": "execute_result",
          "data": {
            "text/html": [
              "<div>\n",
              "<style scoped>\n",
              "    .dataframe tbody tr th:only-of-type {\n",
              "        vertical-align: middle;\n",
              "    }\n",
              "\n",
              "    .dataframe tbody tr th {\n",
              "        vertical-align: top;\n",
              "    }\n",
              "\n",
              "    .dataframe thead th {\n",
              "        text-align: right;\n",
              "    }\n",
              "</style>\n",
              "<table border=\"1\" class=\"dataframe\">\n",
              "  <thead>\n",
              "    <tr style=\"text-align: right;\">\n",
              "      <th></th>\n",
              "      <th>action_type</th>\n",
              "      <th>shot_zone_area</th>\n",
              "    </tr>\n",
              "  </thead>\n",
              "  <tbody>\n",
              "    <tr>\n",
              "      <th>0</th>\n",
              "      <td>Jump Shot</td>\n",
              "      <td>Right Side Center(RC)</td>\n",
              "    </tr>\n",
              "    <tr>\n",
              "      <th>1</th>\n",
              "      <td>Step Back Jump shot</td>\n",
              "      <td>Left Side Center(LC)</td>\n",
              "    </tr>\n",
              "    <tr>\n",
              "      <th>2</th>\n",
              "      <td>Jump Shot</td>\n",
              "      <td>Center(C)</td>\n",
              "    </tr>\n",
              "    <tr>\n",
              "      <th>4</th>\n",
              "      <td>Jump Shot</td>\n",
              "      <td>Left Side Center(LC)</td>\n",
              "    </tr>\n",
              "    <tr>\n",
              "      <th>5</th>\n",
              "      <td>Jump Shot</td>\n",
              "      <td>Center(C)</td>\n",
              "    </tr>\n",
              "    <tr>\n",
              "      <th>...</th>\n",
              "      <td>...</td>\n",
              "      <td>...</td>\n",
              "    </tr>\n",
              "    <tr>\n",
              "      <th>13952</th>\n",
              "      <td>Running Pull-Up Jump Shot</td>\n",
              "      <td>Right Side Center(RC)</td>\n",
              "    </tr>\n",
              "    <tr>\n",
              "      <th>13953</th>\n",
              "      <td>Pullup Jump shot</td>\n",
              "      <td>Center(C)</td>\n",
              "    </tr>\n",
              "    <tr>\n",
              "      <th>13955</th>\n",
              "      <td>Step Back Jump shot</td>\n",
              "      <td>Left Side Center(LC)</td>\n",
              "    </tr>\n",
              "    <tr>\n",
              "      <th>13956</th>\n",
              "      <td>Driving Floating Jump Shot</td>\n",
              "      <td>Center(C)</td>\n",
              "    </tr>\n",
              "    <tr>\n",
              "      <th>13957</th>\n",
              "      <td>Jump Shot</td>\n",
              "      <td>Left Side Center(LC)</td>\n",
              "    </tr>\n",
              "  </tbody>\n",
              "</table>\n",
              "<p>11497 rows × 2 columns</p>\n",
              "</div>"
            ],
            "text/plain": [
              "                      action_type         shot_zone_area\n",
              "0                       Jump Shot  Right Side Center(RC)\n",
              "1             Step Back Jump shot   Left Side Center(LC)\n",
              "2                       Jump Shot              Center(C)\n",
              "4                       Jump Shot   Left Side Center(LC)\n",
              "5                       Jump Shot              Center(C)\n",
              "...                           ...                    ...\n",
              "13952   Running Pull-Up Jump Shot  Right Side Center(RC)\n",
              "13953            Pullup Jump shot              Center(C)\n",
              "13955         Step Back Jump shot   Left Side Center(LC)\n",
              "13956  Driving Floating Jump Shot              Center(C)\n",
              "13957                   Jump Shot   Left Side Center(LC)\n",
              "\n",
              "[11497 rows x 2 columns]"
            ]
          },
          "metadata": {
            "tags": []
          },
          "execution_count": 16
        }
      ]
    },
    {
      "cell_type": "code",
      "metadata": {
        "id": "KRoueGuzkw9u",
        "colab_type": "code",
        "colab": {
          "base_uri": "https://localhost:8080/",
          "height": 221
        },
        "outputId": "c5387781-ab45-4ac5-d5f9-1e83347a63ec"
      },
      "source": [
        "cond2 = df['shot_zone_area'].str.contains('Center')\n",
        "df.loc[cond2,'shot_zone_area']"
      ],
      "execution_count": 20,
      "outputs": [
        {
          "output_type": "execute_result",
          "data": {
            "text/plain": [
              "0        Right Side Center(RC)\n",
              "1         Left Side Center(LC)\n",
              "2                    Center(C)\n",
              "4         Left Side Center(LC)\n",
              "5                    Center(C)\n",
              "                 ...          \n",
              "13952    Right Side Center(RC)\n",
              "13953                Center(C)\n",
              "13955     Left Side Center(LC)\n",
              "13956                Center(C)\n",
              "13957     Left Side Center(LC)\n",
              "Name: shot_zone_area, Length: 11497, dtype: object"
            ]
          },
          "metadata": {
            "tags": []
          },
          "execution_count": 20
        }
      ]
    },
    {
      "cell_type": "code",
      "metadata": {
        "id": "7sECCUbFmZA3",
        "colab_type": "code",
        "colab": {
          "base_uri": "https://localhost:8080/",
          "height": 221
        },
        "outputId": "502d8bed-6a98-40c3-ed94-ba91f0f66f80"
      },
      "source": [
        "cond2"
      ],
      "execution_count": 21,
      "outputs": [
        {
          "output_type": "execute_result",
          "data": {
            "text/plain": [
              "0         True\n",
              "1         True\n",
              "2         True\n",
              "3        False\n",
              "4         True\n",
              "         ...  \n",
              "13953     True\n",
              "13954    False\n",
              "13955     True\n",
              "13956     True\n",
              "13957     True\n",
              "Name: shot_zone_area, Length: 13958, dtype: bool"
            ]
          },
          "metadata": {
            "tags": []
          },
          "execution_count": 21
        }
      ]
    },
    {
      "cell_type": "code",
      "metadata": {
        "id": "u45fX5dP4cpV",
        "colab_type": "code",
        "colab": {}
      },
      "source": [
        "htm_GSM = df.groupby('htm')"
      ],
      "execution_count": 0,
      "outputs": []
    },
    {
      "cell_type": "code",
      "metadata": {
        "id": "r8qFOqsy5UfR",
        "colab_type": "code",
        "colab": {}
      },
      "source": [
        "HOU =htm_GSM.get_group('HOU')"
      ],
      "execution_count": 0,
      "outputs": []
    },
    {
      "cell_type": "code",
      "metadata": {
        "id": "ua_aDT5s9B_2",
        "colab_type": "code",
        "colab": {
          "base_uri": "https://localhost:8080/",
          "height": 34
        },
        "outputId": "25b52035-af21-4b7c-ad51-784e714e7735"
      },
      "source": [
        "htm_GSM['minutes_remaining'].median().loc['ATL']"
      ],
      "execution_count": 112,
      "outputs": [
        {
          "output_type": "execute_result",
          "data": {
            "text/plain": [
              "4"
            ]
          },
          "metadata": {
            "tags": []
          },
          "execution_count": 112
        }
      ]
    },
    {
      "cell_type": "code",
      "metadata": {
        "id": "OVqzOjFY-Npf",
        "colab_type": "code",
        "colab": {
          "base_uri": "https://localhost:8080/",
          "height": 1000
        },
        "outputId": "7ac592a6-7df0-4ec1-d314-a56b72a6380c"
      },
      "source": [
        "htm_GSM[['minutes_remaining','seconds_remaining']].agg(['median','mean'])"
      ],
      "execution_count": 114,
      "outputs": [
        {
          "output_type": "execute_result",
          "data": {
            "text/html": [
              "<div>\n",
              "<style scoped>\n",
              "    .dataframe tbody tr th:only-of-type {\n",
              "        vertical-align: middle;\n",
              "    }\n",
              "\n",
              "    .dataframe tbody tr th {\n",
              "        vertical-align: top;\n",
              "    }\n",
              "\n",
              "    .dataframe thead tr th {\n",
              "        text-align: left;\n",
              "    }\n",
              "\n",
              "    .dataframe thead tr:last-of-type th {\n",
              "        text-align: right;\n",
              "    }\n",
              "</style>\n",
              "<table border=\"1\" class=\"dataframe\">\n",
              "  <thead>\n",
              "    <tr>\n",
              "      <th></th>\n",
              "      <th colspan=\"2\" halign=\"left\">minutes_remaining</th>\n",
              "      <th colspan=\"2\" halign=\"left\">seconds_remaining</th>\n",
              "    </tr>\n",
              "    <tr>\n",
              "      <th></th>\n",
              "      <th>median</th>\n",
              "      <th>mean</th>\n",
              "      <th>median</th>\n",
              "      <th>mean</th>\n",
              "    </tr>\n",
              "    <tr>\n",
              "      <th>htm</th>\n",
              "      <th></th>\n",
              "      <th></th>\n",
              "      <th></th>\n",
              "      <th></th>\n",
              "    </tr>\n",
              "  </thead>\n",
              "  <tbody>\n",
              "    <tr>\n",
              "      <th>ATL</th>\n",
              "      <td>4</td>\n",
              "      <td>4.693750</td>\n",
              "      <td>29.0</td>\n",
              "      <td>28.225000</td>\n",
              "    </tr>\n",
              "    <tr>\n",
              "      <th>BKN</th>\n",
              "      <td>4</td>\n",
              "      <td>4.150685</td>\n",
              "      <td>24.5</td>\n",
              "      <td>27.226027</td>\n",
              "    </tr>\n",
              "    <tr>\n",
              "      <th>BOS</th>\n",
              "      <td>5</td>\n",
              "      <td>4.973510</td>\n",
              "      <td>29.0</td>\n",
              "      <td>28.900662</td>\n",
              "    </tr>\n",
              "    <tr>\n",
              "      <th>CHA</th>\n",
              "      <td>4</td>\n",
              "      <td>4.549133</td>\n",
              "      <td>30.0</td>\n",
              "      <td>27.919075</td>\n",
              "    </tr>\n",
              "    <tr>\n",
              "      <th>CHI</th>\n",
              "      <td>5</td>\n",
              "      <td>5.078014</td>\n",
              "      <td>28.0</td>\n",
              "      <td>27.716312</td>\n",
              "    </tr>\n",
              "    <tr>\n",
              "      <th>CLE</th>\n",
              "      <td>5</td>\n",
              "      <td>4.900000</td>\n",
              "      <td>28.0</td>\n",
              "      <td>28.475000</td>\n",
              "    </tr>\n",
              "    <tr>\n",
              "      <th>DAL</th>\n",
              "      <td>4</td>\n",
              "      <td>4.537594</td>\n",
              "      <td>27.0</td>\n",
              "      <td>27.996241</td>\n",
              "    </tr>\n",
              "    <tr>\n",
              "      <th>DEN</th>\n",
              "      <td>5</td>\n",
              "      <td>5.184818</td>\n",
              "      <td>27.0</td>\n",
              "      <td>27.504950</td>\n",
              "    </tr>\n",
              "    <tr>\n",
              "      <th>DET</th>\n",
              "      <td>5</td>\n",
              "      <td>5.290323</td>\n",
              "      <td>32.5</td>\n",
              "      <td>30.951613</td>\n",
              "    </tr>\n",
              "    <tr>\n",
              "      <th>GSW</th>\n",
              "      <td>4</td>\n",
              "      <td>4.718527</td>\n",
              "      <td>29.0</td>\n",
              "      <td>28.738903</td>\n",
              "    </tr>\n",
              "    <tr>\n",
              "      <th>HOU</th>\n",
              "      <td>4</td>\n",
              "      <td>4.711364</td>\n",
              "      <td>28.0</td>\n",
              "      <td>28.338636</td>\n",
              "    </tr>\n",
              "    <tr>\n",
              "      <th>IND</th>\n",
              "      <td>4</td>\n",
              "      <td>4.899083</td>\n",
              "      <td>29.0</td>\n",
              "      <td>28.128440</td>\n",
              "    </tr>\n",
              "    <tr>\n",
              "      <th>LAC</th>\n",
              "      <td>5</td>\n",
              "      <td>5.061538</td>\n",
              "      <td>28.0</td>\n",
              "      <td>29.387179</td>\n",
              "    </tr>\n",
              "    <tr>\n",
              "      <th>LAL</th>\n",
              "      <td>5</td>\n",
              "      <td>4.992063</td>\n",
              "      <td>31.0</td>\n",
              "      <td>28.706349</td>\n",
              "    </tr>\n",
              "    <tr>\n",
              "      <th>MEM</th>\n",
              "      <td>4</td>\n",
              "      <td>4.527066</td>\n",
              "      <td>28.0</td>\n",
              "      <td>27.079772</td>\n",
              "    </tr>\n",
              "    <tr>\n",
              "      <th>MIA</th>\n",
              "      <td>4</td>\n",
              "      <td>4.451220</td>\n",
              "      <td>27.5</td>\n",
              "      <td>28.432927</td>\n",
              "    </tr>\n",
              "    <tr>\n",
              "      <th>MIL</th>\n",
              "      <td>4</td>\n",
              "      <td>4.684211</td>\n",
              "      <td>25.0</td>\n",
              "      <td>26.451128</td>\n",
              "    </tr>\n",
              "    <tr>\n",
              "      <th>MIN</th>\n",
              "      <td>4</td>\n",
              "      <td>4.103704</td>\n",
              "      <td>29.0</td>\n",
              "      <td>28.466667</td>\n",
              "    </tr>\n",
              "    <tr>\n",
              "      <th>NJN</th>\n",
              "      <td>6</td>\n",
              "      <td>5.642857</td>\n",
              "      <td>30.0</td>\n",
              "      <td>26.928571</td>\n",
              "    </tr>\n",
              "    <tr>\n",
              "      <th>NOH</th>\n",
              "      <td>5</td>\n",
              "      <td>4.958904</td>\n",
              "      <td>29.0</td>\n",
              "      <td>27.917808</td>\n",
              "    </tr>\n",
              "    <tr>\n",
              "      <th>NOP</th>\n",
              "      <td>4</td>\n",
              "      <td>4.430657</td>\n",
              "      <td>32.0</td>\n",
              "      <td>29.496350</td>\n",
              "    </tr>\n",
              "    <tr>\n",
              "      <th>NYK</th>\n",
              "      <td>5</td>\n",
              "      <td>5.118750</td>\n",
              "      <td>27.5</td>\n",
              "      <td>27.843750</td>\n",
              "    </tr>\n",
              "    <tr>\n",
              "      <th>OKC</th>\n",
              "      <td>4</td>\n",
              "      <td>4.702006</td>\n",
              "      <td>31.0</td>\n",
              "      <td>29.994269</td>\n",
              "    </tr>\n",
              "    <tr>\n",
              "      <th>ORL</th>\n",
              "      <td>4</td>\n",
              "      <td>4.500000</td>\n",
              "      <td>26.0</td>\n",
              "      <td>28.462963</td>\n",
              "    </tr>\n",
              "    <tr>\n",
              "      <th>PHI</th>\n",
              "      <td>4</td>\n",
              "      <td>4.686047</td>\n",
              "      <td>31.0</td>\n",
              "      <td>30.238372</td>\n",
              "    </tr>\n",
              "    <tr>\n",
              "      <th>PHX</th>\n",
              "      <td>5</td>\n",
              "      <td>5.071672</td>\n",
              "      <td>29.0</td>\n",
              "      <td>27.935154</td>\n",
              "    </tr>\n",
              "    <tr>\n",
              "      <th>POR</th>\n",
              "      <td>5</td>\n",
              "      <td>4.802920</td>\n",
              "      <td>27.0</td>\n",
              "      <td>27.513382</td>\n",
              "    </tr>\n",
              "    <tr>\n",
              "      <th>SAC</th>\n",
              "      <td>4</td>\n",
              "      <td>4.458599</td>\n",
              "      <td>27.0</td>\n",
              "      <td>27.455414</td>\n",
              "    </tr>\n",
              "    <tr>\n",
              "      <th>SAS</th>\n",
              "      <td>4</td>\n",
              "      <td>4.623729</td>\n",
              "      <td>29.0</td>\n",
              "      <td>28.461017</td>\n",
              "    </tr>\n",
              "    <tr>\n",
              "      <th>TOR</th>\n",
              "      <td>4</td>\n",
              "      <td>4.510753</td>\n",
              "      <td>27.0</td>\n",
              "      <td>27.139785</td>\n",
              "    </tr>\n",
              "    <tr>\n",
              "      <th>UTA</th>\n",
              "      <td>5</td>\n",
              "      <td>5.057823</td>\n",
              "      <td>27.0</td>\n",
              "      <td>27.343537</td>\n",
              "    </tr>\n",
              "    <tr>\n",
              "      <th>WAS</th>\n",
              "      <td>4</td>\n",
              "      <td>4.289617</td>\n",
              "      <td>29.0</td>\n",
              "      <td>28.934426</td>\n",
              "    </tr>\n",
              "  </tbody>\n",
              "</table>\n",
              "</div>"
            ],
            "text/plain": [
              "    minutes_remaining           seconds_remaining           \n",
              "               median      mean            median       mean\n",
              "htm                                                         \n",
              "ATL                 4  4.693750              29.0  28.225000\n",
              "BKN                 4  4.150685              24.5  27.226027\n",
              "BOS                 5  4.973510              29.0  28.900662\n",
              "CHA                 4  4.549133              30.0  27.919075\n",
              "CHI                 5  5.078014              28.0  27.716312\n",
              "CLE                 5  4.900000              28.0  28.475000\n",
              "DAL                 4  4.537594              27.0  27.996241\n",
              "DEN                 5  5.184818              27.0  27.504950\n",
              "DET                 5  5.290323              32.5  30.951613\n",
              "GSW                 4  4.718527              29.0  28.738903\n",
              "HOU                 4  4.711364              28.0  28.338636\n",
              "IND                 4  4.899083              29.0  28.128440\n",
              "LAC                 5  5.061538              28.0  29.387179\n",
              "LAL                 5  4.992063              31.0  28.706349\n",
              "MEM                 4  4.527066              28.0  27.079772\n",
              "MIA                 4  4.451220              27.5  28.432927\n",
              "MIL                 4  4.684211              25.0  26.451128\n",
              "MIN                 4  4.103704              29.0  28.466667\n",
              "NJN                 6  5.642857              30.0  26.928571\n",
              "NOH                 5  4.958904              29.0  27.917808\n",
              "NOP                 4  4.430657              32.0  29.496350\n",
              "NYK                 5  5.118750              27.5  27.843750\n",
              "OKC                 4  4.702006              31.0  29.994269\n",
              "ORL                 4  4.500000              26.0  28.462963\n",
              "PHI                 4  4.686047              31.0  30.238372\n",
              "PHX                 5  5.071672              29.0  27.935154\n",
              "POR                 5  4.802920              27.0  27.513382\n",
              "SAC                 4  4.458599              27.0  27.455414\n",
              "SAS                 4  4.623729              29.0  28.461017\n",
              "TOR                 4  4.510753              27.0  27.139785\n",
              "UTA                 5  5.057823              27.0  27.343537\n",
              "WAS                 4  4.289617              29.0  28.934426"
            ]
          },
          "metadata": {
            "tags": []
          },
          "execution_count": 114
        }
      ]
    },
    {
      "cell_type": "code",
      "metadata": {
        "id": "8XD3_syR-uu6",
        "colab_type": "code",
        "colab": {
          "base_uri": "https://localhost:8080/",
          "height": 102
        },
        "outputId": "c9355e02-d8f6-447b-f8f2-67c6d1683d64"
      },
      "source": [
        "htm_GSM[['minutes_remaining','seconds_remaining']].agg(['median','mean']).loc['SAS']"
      ],
      "execution_count": 115,
      "outputs": [
        {
          "output_type": "execute_result",
          "data": {
            "text/plain": [
              "minutes_remaining  median     4.000000\n",
              "                   mean       4.623729\n",
              "seconds_remaining  median    29.000000\n",
              "                   mean      28.461017\n",
              "Name: SAS, dtype: float64"
            ]
          },
          "metadata": {
            "tags": []
          },
          "execution_count": 115
        }
      ]
    },
    {
      "cell_type": "code",
      "metadata": {
        "id": "8IzTwcTU7OjN",
        "colab_type": "code",
        "colab": {
          "base_uri": "https://localhost:8080/",
          "height": 901
        },
        "outputId": "a8dad689-17ee-4320-8dd9-c4a1f78cfc2a"
      },
      "source": [
        "htm_GSM['action_type'].value_counts().head(50)"
      ],
      "execution_count": 107,
      "outputs": [
        {
          "output_type": "execute_result",
          "data": {
            "text/plain": [
              "htm  action_type                    \n",
              "ATL  Jump Shot                          79\n",
              "     Pullup Jump shot                   21\n",
              "     Driving Layup Shot                 14\n",
              "     Running Layup Shot                  6\n",
              "     Cutting Layup Shot                  5\n",
              "     Step Back Jump shot                 5\n",
              "     Driving Reverse Layup Shot          4\n",
              "     Running Jump Shot                   4\n",
              "     Driving Jump shot                   3\n",
              "     Fadeaway Jump Shot                  3\n",
              "     Floating Jump shot                  3\n",
              "     Running Pull-Up Jump Shot           3\n",
              "     Driving Finger Roll Layup Shot      2\n",
              "     Layup Shot                          2\n",
              "     Dunk Shot                           1\n",
              "     Pullup Bank shot                    1\n",
              "     Running Finger Roll Layup Shot      1\n",
              "     Running Reverse Layup Shot          1\n",
              "     Tip Shot                            1\n",
              "     Turnaround Jump Shot                1\n",
              "BKN  Jump Shot                          81\n",
              "     Pullup Jump shot                   19\n",
              "     Driving Layup Shot                  7\n",
              "     Floating Jump shot                  6\n",
              "     Driving Floating Jump Shot          5\n",
              "     Layup Shot                          5\n",
              "     Running Layup Shot                  4\n",
              "     Finger Roll Layup Shot              3\n",
              "     Step Back Jump shot                 3\n",
              "     Cutting Finger Roll Layup Shot      1\n",
              "     Cutting Layup Shot                  1\n",
              "     Driving Bank shot                   1\n",
              "     Driving Finger Roll Layup Shot      1\n",
              "     Driving Floating Bank Jump Shot     1\n",
              "     Fadeaway Jump Shot                  1\n",
              "     Reverse Layup Shot                  1\n",
              "     Running Bank shot                   1\n",
              "     Running Finger Roll Layup Shot      1\n",
              "     Running Jump Shot                   1\n",
              "     Step Back Bank Jump Shot            1\n",
              "     Turnaround Fadeaway shot            1\n",
              "     Turnaround Jump Shot                1\n",
              "BOS  Jump Shot                          90\n",
              "     Pullup Jump shot                   13\n",
              "     Driving Finger Roll Layup Shot     10\n",
              "     Layup Shot                          8\n",
              "     Step Back Jump shot                 5\n",
              "     Running Layup Shot                  4\n",
              "     Floating Jump shot                  3\n",
              "     Running Bank shot                   3\n",
              "Name: action_type, dtype: int64"
            ]
          },
          "metadata": {
            "tags": []
          },
          "execution_count": 107
        }
      ]
    },
    {
      "cell_type": "code",
      "metadata": {
        "id": "Mi3coNsP718x",
        "colab_type": "code",
        "colab": {
          "base_uri": "https://localhost:8080/",
          "height": 816
        },
        "outputId": "98454647-4e17-4984-9ad2-89bdfab64710"
      },
      "source": [
        "htm_GSM['action_type'].value_counts().loc['GSW']"
      ],
      "execution_count": 109,
      "outputs": [
        {
          "output_type": "execute_result",
          "data": {
            "text/plain": [
              "action_type\n",
              "Jump Shot                             2649\n",
              "Pullup Jump shot                      1509\n",
              "Step Back Jump shot                    613\n",
              "Floating Jump shot                     308\n",
              "Driving Layup Shot                     285\n",
              "Driving Finger Roll Layup Shot         275\n",
              "Layup Shot                             259\n",
              "Driving Reverse Layup Shot             122\n",
              "Running Jump Shot                      116\n",
              "Turnaround Jump Shot                    81\n",
              "Running Layup Shot                      60\n",
              "Driving Floating Jump Shot              59\n",
              "Jump Bank Shot                          57\n",
              "Fadeaway Jump Shot                      53\n",
              "Cutting Layup Shot                      52\n",
              "Reverse Layup Shot                      48\n",
              "Running Finger Roll Layup Shot          42\n",
              "Running Bank shot                       40\n",
              "Running Pull-Up Jump Shot               35\n",
              "Running Reverse Layup Shot              25\n",
              "Driving Floating Bank Jump Shot         23\n",
              "Driving Bank shot                       22\n",
              "Turnaround Fadeaway shot                20\n",
              "Turnaround Bank shot                    17\n",
              "Cutting Finger Roll Layup Shot          12\n",
              "Pullup Bank shot                        11\n",
              "Driving Jump shot                        9\n",
              "Finger Roll Layup Shot                   9\n",
              "Running Hook Shot                        8\n",
              "Fadeaway Bank shot                       6\n",
              "Hook Shot                                6\n",
              "Driving Hook Shot                        5\n",
              "Putback Layup Shot                       5\n",
              "Slam Dunk Shot                           5\n",
              "Driving Dunk Shot                        4\n",
              "Running Dunk Shot                        4\n",
              "Turnaround Fadeaway Bank Jump Shot       3\n",
              "Turnaround Hook Shot                     3\n",
              "Driving Slam Dunk Shot                   2\n",
              "Jump Hook Shot                           2\n",
              "Tip Layup Shot                           2\n",
              "Tip Shot                                 2\n",
              "Driving Bank Hook Shot                   1\n",
              "No Shot                                  1\n",
              "Turnaround Bank Hook Shot                1\n",
              "Name: action_type, dtype: int64"
            ]
          },
          "metadata": {
            "tags": []
          },
          "execution_count": 109
        }
      ]
    },
    {
      "cell_type": "code",
      "metadata": {
        "id": "XrBC7fzE6rxe",
        "colab_type": "code",
        "colab": {
          "base_uri": "https://localhost:8080/",
          "height": 309
        },
        "outputId": "85a512c2-698d-43a3-d954-9fa5f63e00a2"
      },
      "source": [
        "df.drop(columns=['First Name', 'Last Name'],inplace=True)\n",
        "df.head()"
      ],
      "execution_count": 101,
      "outputs": [
        {
          "output_type": "execute_result",
          "data": {
            "text/html": [
              "<div>\n",
              "<style scoped>\n",
              "    .dataframe tbody tr th:only-of-type {\n",
              "        vertical-align: middle;\n",
              "    }\n",
              "\n",
              "    .dataframe tbody tr th {\n",
              "        vertical-align: top;\n",
              "    }\n",
              "\n",
              "    .dataframe thead th {\n",
              "        text-align: right;\n",
              "    }\n",
              "</style>\n",
              "<table border=\"1\" class=\"dataframe\">\n",
              "  <thead>\n",
              "    <tr style=\"text-align: right;\">\n",
              "      <th></th>\n",
              "      <th>game_id</th>\n",
              "      <th>game_event_id</th>\n",
              "      <th>player_name</th>\n",
              "      <th>period</th>\n",
              "      <th>minutes_remaining</th>\n",
              "      <th>seconds_remaining</th>\n",
              "      <th>action_type</th>\n",
              "      <th>shot_type</th>\n",
              "      <th>shot_zone_basic</th>\n",
              "      <th>shot_zone_area</th>\n",
              "      <th>shot_zone_range</th>\n",
              "      <th>shot_distance</th>\n",
              "      <th>loc_x</th>\n",
              "      <th>loc_y</th>\n",
              "      <th>shot_made_flag</th>\n",
              "      <th>game_date</th>\n",
              "      <th>htm</th>\n",
              "      <th>vtm</th>\n",
              "      <th>season_type</th>\n",
              "      <th>scoremargin_before_shot</th>\n",
              "    </tr>\n",
              "  </thead>\n",
              "  <tbody>\n",
              "    <tr>\n",
              "      <th>0</th>\n",
              "      <td>20900015</td>\n",
              "      <td>4</td>\n",
              "      <td>Stephen Curry</td>\n",
              "      <td>1</td>\n",
              "      <td>11</td>\n",
              "      <td>25</td>\n",
              "      <td>Jump Shot</td>\n",
              "      <td>3PT Field Goal</td>\n",
              "      <td>Above the Break 3</td>\n",
              "      <td>Right Side Center(RC)</td>\n",
              "      <td>24+ ft.</td>\n",
              "      <td>26</td>\n",
              "      <td>99</td>\n",
              "      <td>249</td>\n",
              "      <td>0</td>\n",
              "      <td>2009-10-28</td>\n",
              "      <td>GSW</td>\n",
              "      <td>HOU</td>\n",
              "      <td>Regular Season</td>\n",
              "      <td>2.0</td>\n",
              "    </tr>\n",
              "    <tr>\n",
              "      <th>1</th>\n",
              "      <td>20900015</td>\n",
              "      <td>17</td>\n",
              "      <td>Stephen Curry</td>\n",
              "      <td>1</td>\n",
              "      <td>9</td>\n",
              "      <td>31</td>\n",
              "      <td>Step Back Jump shot</td>\n",
              "      <td>2PT Field Goal</td>\n",
              "      <td>Mid-Range</td>\n",
              "      <td>Left Side Center(LC)</td>\n",
              "      <td>16-24 ft.</td>\n",
              "      <td>18</td>\n",
              "      <td>-122</td>\n",
              "      <td>145</td>\n",
              "      <td>1</td>\n",
              "      <td>2009-10-28</td>\n",
              "      <td>GSW</td>\n",
              "      <td>HOU</td>\n",
              "      <td>Regular Season</td>\n",
              "      <td>0.0</td>\n",
              "    </tr>\n",
              "    <tr>\n",
              "      <th>2</th>\n",
              "      <td>20900015</td>\n",
              "      <td>53</td>\n",
              "      <td>Stephen Curry</td>\n",
              "      <td>1</td>\n",
              "      <td>6</td>\n",
              "      <td>2</td>\n",
              "      <td>Jump Shot</td>\n",
              "      <td>2PT Field Goal</td>\n",
              "      <td>In The Paint (Non-RA)</td>\n",
              "      <td>Center(C)</td>\n",
              "      <td>8-16 ft.</td>\n",
              "      <td>14</td>\n",
              "      <td>-60</td>\n",
              "      <td>129</td>\n",
              "      <td>0</td>\n",
              "      <td>2009-10-28</td>\n",
              "      <td>GSW</td>\n",
              "      <td>HOU</td>\n",
              "      <td>Regular Season</td>\n",
              "      <td>-4.0</td>\n",
              "    </tr>\n",
              "    <tr>\n",
              "      <th>3</th>\n",
              "      <td>20900015</td>\n",
              "      <td>141</td>\n",
              "      <td>Stephen Curry</td>\n",
              "      <td>2</td>\n",
              "      <td>9</td>\n",
              "      <td>49</td>\n",
              "      <td>Jump Shot</td>\n",
              "      <td>2PT Field Goal</td>\n",
              "      <td>Mid-Range</td>\n",
              "      <td>Left Side(L)</td>\n",
              "      <td>16-24 ft.</td>\n",
              "      <td>19</td>\n",
              "      <td>-172</td>\n",
              "      <td>82</td>\n",
              "      <td>0</td>\n",
              "      <td>2009-10-28</td>\n",
              "      <td>GSW</td>\n",
              "      <td>HOU</td>\n",
              "      <td>Regular Season</td>\n",
              "      <td>-4.0</td>\n",
              "    </tr>\n",
              "    <tr>\n",
              "      <th>4</th>\n",
              "      <td>20900015</td>\n",
              "      <td>249</td>\n",
              "      <td>Stephen Curry</td>\n",
              "      <td>2</td>\n",
              "      <td>2</td>\n",
              "      <td>19</td>\n",
              "      <td>Jump Shot</td>\n",
              "      <td>2PT Field Goal</td>\n",
              "      <td>Mid-Range</td>\n",
              "      <td>Left Side Center(LC)</td>\n",
              "      <td>16-24 ft.</td>\n",
              "      <td>16</td>\n",
              "      <td>-68</td>\n",
              "      <td>148</td>\n",
              "      <td>0</td>\n",
              "      <td>2009-10-28</td>\n",
              "      <td>GSW</td>\n",
              "      <td>HOU</td>\n",
              "      <td>Regular Season</td>\n",
              "      <td>0.0</td>\n",
              "    </tr>\n",
              "  </tbody>\n",
              "</table>\n",
              "</div>"
            ],
            "text/plain": [
              "    game_id  game_event_id  ...     season_type  scoremargin_before_shot\n",
              "0  20900015              4  ...  Regular Season                      2.0\n",
              "1  20900015             17  ...  Regular Season                      0.0\n",
              "2  20900015             53  ...  Regular Season                     -4.0\n",
              "3  20900015            141  ...  Regular Season                     -4.0\n",
              "4  20900015            249  ...  Regular Season                      0.0\n",
              "\n",
              "[5 rows x 20 columns]"
            ]
          },
          "metadata": {
            "tags": []
          },
          "execution_count": 101
        }
      ]
    },
    {
      "cell_type": "code",
      "metadata": {
        "id": "qHmVKEzhmaGA",
        "colab_type": "code",
        "colab": {
          "base_uri": "https://localhost:8080/",
          "height": 142
        },
        "outputId": "c524a11f-1df3-4fa2-ff2f-ea71afb9a3ac"
      },
      "source": [
        "# change columns' names\n",
        "student = {\n",
        "    'student_ID': [1123451, 2341567,2349807],\n",
        "    'student_name':['Steven','George','Jimmy'],\n",
        "    'grade':['A','A+','B']\n",
        "}\n",
        "\n",
        "df_student=pd.DataFrame(student)\n",
        "df_student"
      ],
      "execution_count": 22,
      "outputs": [
        {
          "output_type": "execute_result",
          "data": {
            "text/html": [
              "<div>\n",
              "<style scoped>\n",
              "    .dataframe tbody tr th:only-of-type {\n",
              "        vertical-align: middle;\n",
              "    }\n",
              "\n",
              "    .dataframe tbody tr th {\n",
              "        vertical-align: top;\n",
              "    }\n",
              "\n",
              "    .dataframe thead th {\n",
              "        text-align: right;\n",
              "    }\n",
              "</style>\n",
              "<table border=\"1\" class=\"dataframe\">\n",
              "  <thead>\n",
              "    <tr style=\"text-align: right;\">\n",
              "      <th></th>\n",
              "      <th>student_ID</th>\n",
              "      <th>student_name</th>\n",
              "      <th>grade</th>\n",
              "    </tr>\n",
              "  </thead>\n",
              "  <tbody>\n",
              "    <tr>\n",
              "      <th>0</th>\n",
              "      <td>1123451</td>\n",
              "      <td>Steven</td>\n",
              "      <td>A</td>\n",
              "    </tr>\n",
              "    <tr>\n",
              "      <th>1</th>\n",
              "      <td>2341567</td>\n",
              "      <td>George</td>\n",
              "      <td>A+</td>\n",
              "    </tr>\n",
              "    <tr>\n",
              "      <th>2</th>\n",
              "      <td>2349807</td>\n",
              "      <td>Jimmy</td>\n",
              "      <td>B</td>\n",
              "    </tr>\n",
              "  </tbody>\n",
              "</table>\n",
              "</div>"
            ],
            "text/plain": [
              "   student_ID student_name grade\n",
              "0     1123451       Steven     A\n",
              "1     2341567       George    A+\n",
              "2     2349807        Jimmy     B"
            ]
          },
          "metadata": {
            "tags": []
          },
          "execution_count": 22
        }
      ]
    },
    {
      "cell_type": "code",
      "metadata": {
        "id": "te6ZXBt1oK0N",
        "colab_type": "code",
        "colab": {
          "base_uri": "https://localhost:8080/",
          "height": 34
        },
        "outputId": "31b09d4a-1786-4be8-eab4-2a12f3bf2e79"
      },
      "source": [
        "df_student.columns"
      ],
      "execution_count": 23,
      "outputs": [
        {
          "output_type": "execute_result",
          "data": {
            "text/plain": [
              "Index(['student_ID', 'student_name', 'grade'], dtype='object')"
            ]
          },
          "metadata": {
            "tags": []
          },
          "execution_count": 23
        }
      ]
    },
    {
      "cell_type": "code",
      "metadata": {
        "id": "jLUkAp8voM6Y",
        "colab_type": "code",
        "colab": {
          "base_uri": "https://localhost:8080/",
          "height": 142
        },
        "outputId": "ada4750d-8729-4b18-f0b6-eb6464b99e8a"
      },
      "source": [
        "df_student.columns = ['StudentID', 'StudentName', \"Grade\"]\n",
        "df_student"
      ],
      "execution_count": 25,
      "outputs": [
        {
          "output_type": "execute_result",
          "data": {
            "text/html": [
              "<div>\n",
              "<style scoped>\n",
              "    .dataframe tbody tr th:only-of-type {\n",
              "        vertical-align: middle;\n",
              "    }\n",
              "\n",
              "    .dataframe tbody tr th {\n",
              "        vertical-align: top;\n",
              "    }\n",
              "\n",
              "    .dataframe thead th {\n",
              "        text-align: right;\n",
              "    }\n",
              "</style>\n",
              "<table border=\"1\" class=\"dataframe\">\n",
              "  <thead>\n",
              "    <tr style=\"text-align: right;\">\n",
              "      <th></th>\n",
              "      <th>StudentID</th>\n",
              "      <th>StudentName</th>\n",
              "      <th>Grade</th>\n",
              "    </tr>\n",
              "  </thead>\n",
              "  <tbody>\n",
              "    <tr>\n",
              "      <th>0</th>\n",
              "      <td>1123451</td>\n",
              "      <td>Steven</td>\n",
              "      <td>A</td>\n",
              "    </tr>\n",
              "    <tr>\n",
              "      <th>1</th>\n",
              "      <td>2341567</td>\n",
              "      <td>George</td>\n",
              "      <td>A+</td>\n",
              "    </tr>\n",
              "    <tr>\n",
              "      <th>2</th>\n",
              "      <td>2349807</td>\n",
              "      <td>Jimmy</td>\n",
              "      <td>B</td>\n",
              "    </tr>\n",
              "  </tbody>\n",
              "</table>\n",
              "</div>"
            ],
            "text/plain": [
              "   StudentID StudentName Grade\n",
              "0    1123451      Steven     A\n",
              "1    2341567      George    A+\n",
              "2    2349807       Jimmy     B"
            ]
          },
          "metadata": {
            "tags": []
          },
          "execution_count": 25
        }
      ]
    },
    {
      "cell_type": "code",
      "metadata": {
        "id": "tKV58UWoowB2",
        "colab_type": "code",
        "colab": {
          "base_uri": "https://localhost:8080/",
          "height": 142
        },
        "outputId": "57804bf5-a0b3-4965-8a2a-5b6a1a02cfda"
      },
      "source": [
        "# change column names into upper case letters\n",
        "df_student.columns = [x.upper() for x in df_student.columns]\n",
        "df_student"
      ],
      "execution_count": 27,
      "outputs": [
        {
          "output_type": "execute_result",
          "data": {
            "text/html": [
              "<div>\n",
              "<style scoped>\n",
              "    .dataframe tbody tr th:only-of-type {\n",
              "        vertical-align: middle;\n",
              "    }\n",
              "\n",
              "    .dataframe tbody tr th {\n",
              "        vertical-align: top;\n",
              "    }\n",
              "\n",
              "    .dataframe thead th {\n",
              "        text-align: right;\n",
              "    }\n",
              "</style>\n",
              "<table border=\"1\" class=\"dataframe\">\n",
              "  <thead>\n",
              "    <tr style=\"text-align: right;\">\n",
              "      <th></th>\n",
              "      <th>STUDENTID</th>\n",
              "      <th>STUDENTNAME</th>\n",
              "      <th>GRADE</th>\n",
              "    </tr>\n",
              "  </thead>\n",
              "  <tbody>\n",
              "    <tr>\n",
              "      <th>0</th>\n",
              "      <td>1123451</td>\n",
              "      <td>Steven</td>\n",
              "      <td>A</td>\n",
              "    </tr>\n",
              "    <tr>\n",
              "      <th>1</th>\n",
              "      <td>2341567</td>\n",
              "      <td>George</td>\n",
              "      <td>A+</td>\n",
              "    </tr>\n",
              "    <tr>\n",
              "      <th>2</th>\n",
              "      <td>2349807</td>\n",
              "      <td>Jimmy</td>\n",
              "      <td>B</td>\n",
              "    </tr>\n",
              "  </tbody>\n",
              "</table>\n",
              "</div>"
            ],
            "text/plain": [
              "   STUDENTID STUDENTNAME GRADE\n",
              "0    1123451      Steven     A\n",
              "1    2341567      George    A+\n",
              "2    2349807       Jimmy     B"
            ]
          },
          "metadata": {
            "tags": []
          },
          "execution_count": 27
        }
      ]
    },
    {
      "cell_type": "code",
      "metadata": {
        "id": "ljJmxDZ9pnKY",
        "colab_type": "code",
        "colab": {
          "base_uri": "https://localhost:8080/",
          "height": 34
        },
        "outputId": "1fe5c96a-2911-4243-e234-ffdbecdc996f"
      },
      "source": [
        "df_student.columns"
      ],
      "execution_count": 28,
      "outputs": [
        {
          "output_type": "execute_result",
          "data": {
            "text/plain": [
              "Index(['STUDENTID', 'STUDENTNAME', 'GRADE'], dtype='object')"
            ]
          },
          "metadata": {
            "tags": []
          },
          "execution_count": 28
        }
      ]
    },
    {
      "cell_type": "code",
      "metadata": {
        "id": "E-tYIDHFpwqg",
        "colab_type": "code",
        "colab": {}
      },
      "source": [
        "df_student.columns = ['STUDENT ID', 'STUDENT NAME', 'GRADE ']"
      ],
      "execution_count": 0,
      "outputs": []
    },
    {
      "cell_type": "code",
      "metadata": {
        "id": "hFqRRCl2pa-d",
        "colab_type": "code",
        "colab": {
          "base_uri": "https://localhost:8080/",
          "height": 142
        },
        "outputId": "3aeb6723-2ed0-4f98-fc6c-5d36bccfc831"
      },
      "source": [
        "df_student.columns = df_student.columns.str.replace(' ','_')\n",
        "df_student"
      ],
      "execution_count": 30,
      "outputs": [
        {
          "output_type": "execute_result",
          "data": {
            "text/html": [
              "<div>\n",
              "<style scoped>\n",
              "    .dataframe tbody tr th:only-of-type {\n",
              "        vertical-align: middle;\n",
              "    }\n",
              "\n",
              "    .dataframe tbody tr th {\n",
              "        vertical-align: top;\n",
              "    }\n",
              "\n",
              "    .dataframe thead th {\n",
              "        text-align: right;\n",
              "    }\n",
              "</style>\n",
              "<table border=\"1\" class=\"dataframe\">\n",
              "  <thead>\n",
              "    <tr style=\"text-align: right;\">\n",
              "      <th></th>\n",
              "      <th>STUDENT_ID</th>\n",
              "      <th>STUDENT_NAME</th>\n",
              "      <th>GRADE_</th>\n",
              "    </tr>\n",
              "  </thead>\n",
              "  <tbody>\n",
              "    <tr>\n",
              "      <th>0</th>\n",
              "      <td>1123451</td>\n",
              "      <td>Steven</td>\n",
              "      <td>A</td>\n",
              "    </tr>\n",
              "    <tr>\n",
              "      <th>1</th>\n",
              "      <td>2341567</td>\n",
              "      <td>George</td>\n",
              "      <td>A+</td>\n",
              "    </tr>\n",
              "    <tr>\n",
              "      <th>2</th>\n",
              "      <td>2349807</td>\n",
              "      <td>Jimmy</td>\n",
              "      <td>B</td>\n",
              "    </tr>\n",
              "  </tbody>\n",
              "</table>\n",
              "</div>"
            ],
            "text/plain": [
              "   STUDENT_ID STUDENT_NAME GRADE_\n",
              "0     1123451       Steven      A\n",
              "1     2341567       George     A+\n",
              "2     2349807        Jimmy      B"
            ]
          },
          "metadata": {
            "tags": []
          },
          "execution_count": 30
        }
      ]
    },
    {
      "cell_type": "code",
      "metadata": {
        "id": "Bqwfr0AOqgJH",
        "colab_type": "code",
        "colab": {
          "base_uri": "https://localhost:8080/",
          "height": 142
        },
        "outputId": "8f2696da-ee8b-43c4-f9fa-ee168da10f96"
      },
      "source": [
        "df_student.columns = [x.lower() for x in df_student.columns]\n",
        "df_student"
      ],
      "execution_count": 31,
      "outputs": [
        {
          "output_type": "execute_result",
          "data": {
            "text/html": [
              "<div>\n",
              "<style scoped>\n",
              "    .dataframe tbody tr th:only-of-type {\n",
              "        vertical-align: middle;\n",
              "    }\n",
              "\n",
              "    .dataframe tbody tr th {\n",
              "        vertical-align: top;\n",
              "    }\n",
              "\n",
              "    .dataframe thead th {\n",
              "        text-align: right;\n",
              "    }\n",
              "</style>\n",
              "<table border=\"1\" class=\"dataframe\">\n",
              "  <thead>\n",
              "    <tr style=\"text-align: right;\">\n",
              "      <th></th>\n",
              "      <th>student_id</th>\n",
              "      <th>student_name</th>\n",
              "      <th>grade_</th>\n",
              "    </tr>\n",
              "  </thead>\n",
              "  <tbody>\n",
              "    <tr>\n",
              "      <th>0</th>\n",
              "      <td>1123451</td>\n",
              "      <td>Steven</td>\n",
              "      <td>A</td>\n",
              "    </tr>\n",
              "    <tr>\n",
              "      <th>1</th>\n",
              "      <td>2341567</td>\n",
              "      <td>George</td>\n",
              "      <td>A+</td>\n",
              "    </tr>\n",
              "    <tr>\n",
              "      <th>2</th>\n",
              "      <td>2349807</td>\n",
              "      <td>Jimmy</td>\n",
              "      <td>B</td>\n",
              "    </tr>\n",
              "  </tbody>\n",
              "</table>\n",
              "</div>"
            ],
            "text/plain": [
              "   student_id student_name grade_\n",
              "0     1123451       Steven      A\n",
              "1     2341567       George     A+\n",
              "2     2349807        Jimmy      B"
            ]
          },
          "metadata": {
            "tags": []
          },
          "execution_count": 31
        }
      ]
    },
    {
      "cell_type": "code",
      "metadata": {
        "id": "A6JdRcYgqqZt",
        "colab_type": "code",
        "colab": {
          "base_uri": "https://localhost:8080/",
          "height": 142
        },
        "outputId": "64526a15-20de-4959-fa0f-a2eeb34b018e"
      },
      "source": [
        "df_student.rename(columns={'student_id':'ID','student_name':'Name'},inplace=True)\n",
        "df_student"
      ],
      "execution_count": 33,
      "outputs": [
        {
          "output_type": "execute_result",
          "data": {
            "text/html": [
              "<div>\n",
              "<style scoped>\n",
              "    .dataframe tbody tr th:only-of-type {\n",
              "        vertical-align: middle;\n",
              "    }\n",
              "\n",
              "    .dataframe tbody tr th {\n",
              "        vertical-align: top;\n",
              "    }\n",
              "\n",
              "    .dataframe thead th {\n",
              "        text-align: right;\n",
              "    }\n",
              "</style>\n",
              "<table border=\"1\" class=\"dataframe\">\n",
              "  <thead>\n",
              "    <tr style=\"text-align: right;\">\n",
              "      <th></th>\n",
              "      <th>ID</th>\n",
              "      <th>Name</th>\n",
              "      <th>grade_</th>\n",
              "    </tr>\n",
              "  </thead>\n",
              "  <tbody>\n",
              "    <tr>\n",
              "      <th>0</th>\n",
              "      <td>1123451</td>\n",
              "      <td>Steven</td>\n",
              "      <td>A</td>\n",
              "    </tr>\n",
              "    <tr>\n",
              "      <th>1</th>\n",
              "      <td>2341567</td>\n",
              "      <td>George</td>\n",
              "      <td>A+</td>\n",
              "    </tr>\n",
              "    <tr>\n",
              "      <th>2</th>\n",
              "      <td>2349807</td>\n",
              "      <td>Jimmy</td>\n",
              "      <td>B</td>\n",
              "    </tr>\n",
              "  </tbody>\n",
              "</table>\n",
              "</div>"
            ],
            "text/plain": [
              "        ID    Name grade_\n",
              "0  1123451  Steven      A\n",
              "1  2341567  George     A+\n",
              "2  2349807   Jimmy      B"
            ]
          },
          "metadata": {
            "tags": []
          },
          "execution_count": 33
        }
      ]
    },
    {
      "cell_type": "code",
      "metadata": {
        "id": "JIxfDLRirhfO",
        "colab_type": "code",
        "colab": {
          "base_uri": "https://localhost:8080/",
          "height": 85
        },
        "outputId": "eae30649-a00c-4890-f014-f508ed767387"
      },
      "source": [
        "df_student.loc[2]"
      ],
      "execution_count": 34,
      "outputs": [
        {
          "output_type": "execute_result",
          "data": {
            "text/plain": [
              "ID        2349807\n",
              "Name        Jimmy\n",
              "grade_          B\n",
              "Name: 2, dtype: object"
            ]
          },
          "metadata": {
            "tags": []
          },
          "execution_count": 34
        }
      ]
    },
    {
      "cell_type": "code",
      "metadata": {
        "id": "XHiI4OBWrj40",
        "colab_type": "code",
        "colab": {
          "base_uri": "https://localhost:8080/",
          "height": 142
        },
        "outputId": "71619ed9-1138-4739-f489-16bb06eafe7a"
      },
      "source": [
        "df_student.loc[2] = ['1273421', 'Gina', 'P']\n",
        "df_student"
      ],
      "execution_count": 36,
      "outputs": [
        {
          "output_type": "execute_result",
          "data": {
            "text/html": [
              "<div>\n",
              "<style scoped>\n",
              "    .dataframe tbody tr th:only-of-type {\n",
              "        vertical-align: middle;\n",
              "    }\n",
              "\n",
              "    .dataframe tbody tr th {\n",
              "        vertical-align: top;\n",
              "    }\n",
              "\n",
              "    .dataframe thead th {\n",
              "        text-align: right;\n",
              "    }\n",
              "</style>\n",
              "<table border=\"1\" class=\"dataframe\">\n",
              "  <thead>\n",
              "    <tr style=\"text-align: right;\">\n",
              "      <th></th>\n",
              "      <th>ID</th>\n",
              "      <th>Name</th>\n",
              "      <th>grade_</th>\n",
              "    </tr>\n",
              "  </thead>\n",
              "  <tbody>\n",
              "    <tr>\n",
              "      <th>0</th>\n",
              "      <td>1123451</td>\n",
              "      <td>Steven</td>\n",
              "      <td>A</td>\n",
              "    </tr>\n",
              "    <tr>\n",
              "      <th>1</th>\n",
              "      <td>2341567</td>\n",
              "      <td>George</td>\n",
              "      <td>A+</td>\n",
              "    </tr>\n",
              "    <tr>\n",
              "      <th>2</th>\n",
              "      <td>1273421</td>\n",
              "      <td>Gina</td>\n",
              "      <td>P</td>\n",
              "    </tr>\n",
              "  </tbody>\n",
              "</table>\n",
              "</div>"
            ],
            "text/plain": [
              "        ID    Name grade_\n",
              "0  1123451  Steven      A\n",
              "1  2341567  George     A+\n",
              "2  1273421    Gina      P"
            ]
          },
          "metadata": {
            "tags": []
          },
          "execution_count": 36
        }
      ]
    },
    {
      "cell_type": "code",
      "metadata": {
        "id": "LjTqZlRFrvWK",
        "colab_type": "code",
        "colab": {
          "base_uri": "https://localhost:8080/",
          "height": 142
        },
        "outputId": "1d3a3808-39cd-434e-f2e7-06628c26ad23"
      },
      "source": [
        "df_student.at[2, 'grade_'] = 'B'\n",
        "df_student"
      ],
      "execution_count": 38,
      "outputs": [
        {
          "output_type": "execute_result",
          "data": {
            "text/html": [
              "<div>\n",
              "<style scoped>\n",
              "    .dataframe tbody tr th:only-of-type {\n",
              "        vertical-align: middle;\n",
              "    }\n",
              "\n",
              "    .dataframe tbody tr th {\n",
              "        vertical-align: top;\n",
              "    }\n",
              "\n",
              "    .dataframe thead th {\n",
              "        text-align: right;\n",
              "    }\n",
              "</style>\n",
              "<table border=\"1\" class=\"dataframe\">\n",
              "  <thead>\n",
              "    <tr style=\"text-align: right;\">\n",
              "      <th></th>\n",
              "      <th>ID</th>\n",
              "      <th>Name</th>\n",
              "      <th>grade_</th>\n",
              "    </tr>\n",
              "  </thead>\n",
              "  <tbody>\n",
              "    <tr>\n",
              "      <th>0</th>\n",
              "      <td>1123451</td>\n",
              "      <td>Steven</td>\n",
              "      <td>A</td>\n",
              "    </tr>\n",
              "    <tr>\n",
              "      <th>1</th>\n",
              "      <td>2341567</td>\n",
              "      <td>George</td>\n",
              "      <td>A+</td>\n",
              "    </tr>\n",
              "    <tr>\n",
              "      <th>2</th>\n",
              "      <td>1273421</td>\n",
              "      <td>Gina</td>\n",
              "      <td>B</td>\n",
              "    </tr>\n",
              "  </tbody>\n",
              "</table>\n",
              "</div>"
            ],
            "text/plain": [
              "        ID    Name grade_\n",
              "0  1123451  Steven      A\n",
              "1  2341567  George     A+\n",
              "2  1273421    Gina      B"
            ]
          },
          "metadata": {
            "tags": []
          },
          "execution_count": 38
        }
      ]
    },
    {
      "cell_type": "code",
      "metadata": {
        "id": "q7IhC8uFtnPt",
        "colab_type": "code",
        "colab": {}
      },
      "source": [
        "df_student['grade_'] = df_student['grade_'].str.lower()"
      ],
      "execution_count": 0,
      "outputs": []
    },
    {
      "cell_type": "code",
      "metadata": {
        "id": "x64EbfuLvCeO",
        "colab_type": "code",
        "colab": {
          "base_uri": "https://localhost:8080/",
          "height": 142
        },
        "outputId": "e571a0d1-70a6-48e6-afef-6cad5c402fb9"
      },
      "source": [
        "df_student"
      ],
      "execution_count": 40,
      "outputs": [
        {
          "output_type": "execute_result",
          "data": {
            "text/html": [
              "<div>\n",
              "<style scoped>\n",
              "    .dataframe tbody tr th:only-of-type {\n",
              "        vertical-align: middle;\n",
              "    }\n",
              "\n",
              "    .dataframe tbody tr th {\n",
              "        vertical-align: top;\n",
              "    }\n",
              "\n",
              "    .dataframe thead th {\n",
              "        text-align: right;\n",
              "    }\n",
              "</style>\n",
              "<table border=\"1\" class=\"dataframe\">\n",
              "  <thead>\n",
              "    <tr style=\"text-align: right;\">\n",
              "      <th></th>\n",
              "      <th>ID</th>\n",
              "      <th>Name</th>\n",
              "      <th>grade_</th>\n",
              "    </tr>\n",
              "  </thead>\n",
              "  <tbody>\n",
              "    <tr>\n",
              "      <th>0</th>\n",
              "      <td>1123451</td>\n",
              "      <td>Steven</td>\n",
              "      <td>a</td>\n",
              "    </tr>\n",
              "    <tr>\n",
              "      <th>1</th>\n",
              "      <td>2341567</td>\n",
              "      <td>George</td>\n",
              "      <td>a+</td>\n",
              "    </tr>\n",
              "    <tr>\n",
              "      <th>2</th>\n",
              "      <td>1273421</td>\n",
              "      <td>Gina</td>\n",
              "      <td>b</td>\n",
              "    </tr>\n",
              "  </tbody>\n",
              "</table>\n",
              "</div>"
            ],
            "text/plain": [
              "        ID    Name grade_\n",
              "0  1123451  Steven      a\n",
              "1  2341567  George     a+\n",
              "2  1273421    Gina      b"
            ]
          },
          "metadata": {
            "tags": []
          },
          "execution_count": 40
        }
      ]
    },
    {
      "cell_type": "code",
      "metadata": {
        "id": "7htyWs7svDS5",
        "colab_type": "code",
        "colab": {}
      },
      "source": [
        "def update_name(name):\n",
        "  return name.upper()"
      ],
      "execution_count": 0,
      "outputs": []
    },
    {
      "cell_type": "code",
      "metadata": {
        "id": "qpMYMYvgwFPS",
        "colab_type": "code",
        "colab": {}
      },
      "source": [
        "df_student['Name']=df_student['Name'].apply(update_name)"
      ],
      "execution_count": 0,
      "outputs": []
    },
    {
      "cell_type": "code",
      "metadata": {
        "id": "2_9O3i7hwQ3U",
        "colab_type": "code",
        "colab": {
          "base_uri": "https://localhost:8080/",
          "height": 142
        },
        "outputId": "babf9d26-243f-4e0b-84d6-ed748b571139"
      },
      "source": [
        "df_student"
      ],
      "execution_count": 45,
      "outputs": [
        {
          "output_type": "execute_result",
          "data": {
            "text/html": [
              "<div>\n",
              "<style scoped>\n",
              "    .dataframe tbody tr th:only-of-type {\n",
              "        vertical-align: middle;\n",
              "    }\n",
              "\n",
              "    .dataframe tbody tr th {\n",
              "        vertical-align: top;\n",
              "    }\n",
              "\n",
              "    .dataframe thead th {\n",
              "        text-align: right;\n",
              "    }\n",
              "</style>\n",
              "<table border=\"1\" class=\"dataframe\">\n",
              "  <thead>\n",
              "    <tr style=\"text-align: right;\">\n",
              "      <th></th>\n",
              "      <th>ID</th>\n",
              "      <th>Name</th>\n",
              "      <th>grade_</th>\n",
              "    </tr>\n",
              "  </thead>\n",
              "  <tbody>\n",
              "    <tr>\n",
              "      <th>0</th>\n",
              "      <td>1123451</td>\n",
              "      <td>STEVEN</td>\n",
              "      <td>a</td>\n",
              "    </tr>\n",
              "    <tr>\n",
              "      <th>1</th>\n",
              "      <td>2341567</td>\n",
              "      <td>GEORGE</td>\n",
              "      <td>a+</td>\n",
              "    </tr>\n",
              "    <tr>\n",
              "      <th>2</th>\n",
              "      <td>1273421</td>\n",
              "      <td>GINA</td>\n",
              "      <td>b</td>\n",
              "    </tr>\n",
              "  </tbody>\n",
              "</table>\n",
              "</div>"
            ],
            "text/plain": [
              "        ID    Name grade_\n",
              "0  1123451  STEVEN      a\n",
              "1  2341567  GEORGE     a+\n",
              "2  1273421    GINA      b"
            ]
          },
          "metadata": {
            "tags": []
          },
          "execution_count": 45
        }
      ]
    },
    {
      "cell_type": "code",
      "metadata": {
        "id": "8NHWitVTwRwL",
        "colab_type": "code",
        "colab": {}
      },
      "source": [
        "df_student['Name']=df_student['Name'].apply(lambda x: x.lower())"
      ],
      "execution_count": 0,
      "outputs": []
    },
    {
      "cell_type": "code",
      "metadata": {
        "id": "PhpPOiGewwEi",
        "colab_type": "code",
        "colab": {
          "base_uri": "https://localhost:8080/",
          "height": 142
        },
        "outputId": "e1561aba-a44e-418f-df41-814e86182a35"
      },
      "source": [
        "df_student"
      ],
      "execution_count": 47,
      "outputs": [
        {
          "output_type": "execute_result",
          "data": {
            "text/html": [
              "<div>\n",
              "<style scoped>\n",
              "    .dataframe tbody tr th:only-of-type {\n",
              "        vertical-align: middle;\n",
              "    }\n",
              "\n",
              "    .dataframe tbody tr th {\n",
              "        vertical-align: top;\n",
              "    }\n",
              "\n",
              "    .dataframe thead th {\n",
              "        text-align: right;\n",
              "    }\n",
              "</style>\n",
              "<table border=\"1\" class=\"dataframe\">\n",
              "  <thead>\n",
              "    <tr style=\"text-align: right;\">\n",
              "      <th></th>\n",
              "      <th>ID</th>\n",
              "      <th>Name</th>\n",
              "      <th>grade_</th>\n",
              "    </tr>\n",
              "  </thead>\n",
              "  <tbody>\n",
              "    <tr>\n",
              "      <th>0</th>\n",
              "      <td>1123451</td>\n",
              "      <td>steven</td>\n",
              "      <td>a</td>\n",
              "    </tr>\n",
              "    <tr>\n",
              "      <th>1</th>\n",
              "      <td>2341567</td>\n",
              "      <td>george</td>\n",
              "      <td>a+</td>\n",
              "    </tr>\n",
              "    <tr>\n",
              "      <th>2</th>\n",
              "      <td>1273421</td>\n",
              "      <td>gina</td>\n",
              "      <td>b</td>\n",
              "    </tr>\n",
              "  </tbody>\n",
              "</table>\n",
              "</div>"
            ],
            "text/plain": [
              "        ID    Name grade_\n",
              "0  1123451  steven      a\n",
              "1  2341567  george     a+\n",
              "2  1273421    gina      b"
            ]
          },
          "metadata": {
            "tags": []
          },
          "execution_count": 47
        }
      ]
    },
    {
      "cell_type": "code",
      "metadata": {
        "id": "1RbR-3Xx0MpZ",
        "colab_type": "code",
        "colab": {
          "base_uri": "https://localhost:8080/",
          "height": 85
        },
        "outputId": "0f45d6fa-8dbc-4e2e-be6b-21ff57e54c09"
      },
      "source": [
        "df_student['Name'].apply(len)"
      ],
      "execution_count": 53,
      "outputs": [
        {
          "output_type": "execute_result",
          "data": {
            "text/plain": [
              "0    6\n",
              "1    6\n",
              "2    4\n",
              "Name: Name, dtype: int64"
            ]
          },
          "metadata": {
            "tags": []
          },
          "execution_count": 53
        }
      ]
    },
    {
      "cell_type": "code",
      "metadata": {
        "id": "wNx3_mOTeujX",
        "colab_type": "code",
        "colab": {}
      },
      "source": [
        "df_student.rename(columns={'Name':'First Name'}, inplace=True)"
      ],
      "execution_count": 0,
      "outputs": []
    },
    {
      "cell_type": "code",
      "metadata": {
        "id": "KVglQi52e_r9",
        "colab_type": "code",
        "colab": {
          "base_uri": "https://localhost:8080/",
          "height": 142
        },
        "outputId": "3495b373-33a3-481e-b1c5-c43f93d68bb8"
      },
      "source": [
        "df_student"
      ],
      "execution_count": 57,
      "outputs": [
        {
          "output_type": "execute_result",
          "data": {
            "text/html": [
              "<div>\n",
              "<style scoped>\n",
              "    .dataframe tbody tr th:only-of-type {\n",
              "        vertical-align: middle;\n",
              "    }\n",
              "\n",
              "    .dataframe tbody tr th {\n",
              "        vertical-align: top;\n",
              "    }\n",
              "\n",
              "    .dataframe thead th {\n",
              "        text-align: right;\n",
              "    }\n",
              "</style>\n",
              "<table border=\"1\" class=\"dataframe\">\n",
              "  <thead>\n",
              "    <tr style=\"text-align: right;\">\n",
              "      <th></th>\n",
              "      <th>ID</th>\n",
              "      <th>First Name</th>\n",
              "      <th>grade_</th>\n",
              "    </tr>\n",
              "  </thead>\n",
              "  <tbody>\n",
              "    <tr>\n",
              "      <th>0</th>\n",
              "      <td>1123451</td>\n",
              "      <td>steven</td>\n",
              "      <td>a</td>\n",
              "    </tr>\n",
              "    <tr>\n",
              "      <th>1</th>\n",
              "      <td>2341567</td>\n",
              "      <td>george</td>\n",
              "      <td>a+</td>\n",
              "    </tr>\n",
              "    <tr>\n",
              "      <th>2</th>\n",
              "      <td>1273421</td>\n",
              "      <td>gina</td>\n",
              "      <td>b</td>\n",
              "    </tr>\n",
              "  </tbody>\n",
              "</table>\n",
              "</div>"
            ],
            "text/plain": [
              "        ID First Name grade_\n",
              "0  1123451     steven      a\n",
              "1  2341567     george     a+\n",
              "2  1273421       gina      b"
            ]
          },
          "metadata": {
            "tags": []
          },
          "execution_count": 57
        }
      ]
    },
    {
      "cell_type": "code",
      "metadata": {
        "id": "emKiYqANfAxr",
        "colab_type": "code",
        "colab": {
          "base_uri": "https://localhost:8080/",
          "height": 142
        },
        "outputId": "b33f926f-8dd6-4940-8cab-e6a0d7bee932"
      },
      "source": [
        "df_student['Last Name'] = ['Tim', 'King', 'Lucca']\n",
        "df_student"
      ],
      "execution_count": 59,
      "outputs": [
        {
          "output_type": "execute_result",
          "data": {
            "text/html": [
              "<div>\n",
              "<style scoped>\n",
              "    .dataframe tbody tr th:only-of-type {\n",
              "        vertical-align: middle;\n",
              "    }\n",
              "\n",
              "    .dataframe tbody tr th {\n",
              "        vertical-align: top;\n",
              "    }\n",
              "\n",
              "    .dataframe thead th {\n",
              "        text-align: right;\n",
              "    }\n",
              "</style>\n",
              "<table border=\"1\" class=\"dataframe\">\n",
              "  <thead>\n",
              "    <tr style=\"text-align: right;\">\n",
              "      <th></th>\n",
              "      <th>ID</th>\n",
              "      <th>First Name</th>\n",
              "      <th>grade_</th>\n",
              "      <th>Last Name</th>\n",
              "    </tr>\n",
              "  </thead>\n",
              "  <tbody>\n",
              "    <tr>\n",
              "      <th>0</th>\n",
              "      <td>1123451</td>\n",
              "      <td>steven</td>\n",
              "      <td>a</td>\n",
              "      <td>Tim</td>\n",
              "    </tr>\n",
              "    <tr>\n",
              "      <th>1</th>\n",
              "      <td>2341567</td>\n",
              "      <td>george</td>\n",
              "      <td>a+</td>\n",
              "      <td>King</td>\n",
              "    </tr>\n",
              "    <tr>\n",
              "      <th>2</th>\n",
              "      <td>1273421</td>\n",
              "      <td>gina</td>\n",
              "      <td>b</td>\n",
              "      <td>Lucca</td>\n",
              "    </tr>\n",
              "  </tbody>\n",
              "</table>\n",
              "</div>"
            ],
            "text/plain": [
              "        ID First Name grade_ Last Name\n",
              "0  1123451     steven      a       Tim\n",
              "1  2341567     george     a+      King\n",
              "2  1273421       gina      b     Lucca"
            ]
          },
          "metadata": {
            "tags": []
          },
          "execution_count": 59
        }
      ]
    },
    {
      "cell_type": "code",
      "metadata": {
        "id": "Mo_1qRBKfQbe",
        "colab_type": "code",
        "colab": {
          "base_uri": "https://localhost:8080/",
          "height": 142
        },
        "outputId": "38363d68-2fb3-4c67-a3b8-0d0a0c243ca9"
      },
      "source": [
        "df_student['Full Name'] = df_student['First Name'] + ' ' + df_student['Last Name']\n",
        "df_student"
      ],
      "execution_count": 60,
      "outputs": [
        {
          "output_type": "execute_result",
          "data": {
            "text/html": [
              "<div>\n",
              "<style scoped>\n",
              "    .dataframe tbody tr th:only-of-type {\n",
              "        vertical-align: middle;\n",
              "    }\n",
              "\n",
              "    .dataframe tbody tr th {\n",
              "        vertical-align: top;\n",
              "    }\n",
              "\n",
              "    .dataframe thead th {\n",
              "        text-align: right;\n",
              "    }\n",
              "</style>\n",
              "<table border=\"1\" class=\"dataframe\">\n",
              "  <thead>\n",
              "    <tr style=\"text-align: right;\">\n",
              "      <th></th>\n",
              "      <th>ID</th>\n",
              "      <th>First Name</th>\n",
              "      <th>grade_</th>\n",
              "      <th>Last Name</th>\n",
              "      <th>Full Name</th>\n",
              "    </tr>\n",
              "  </thead>\n",
              "  <tbody>\n",
              "    <tr>\n",
              "      <th>0</th>\n",
              "      <td>1123451</td>\n",
              "      <td>steven</td>\n",
              "      <td>a</td>\n",
              "      <td>Tim</td>\n",
              "      <td>steven Tim</td>\n",
              "    </tr>\n",
              "    <tr>\n",
              "      <th>1</th>\n",
              "      <td>2341567</td>\n",
              "      <td>george</td>\n",
              "      <td>a+</td>\n",
              "      <td>King</td>\n",
              "      <td>george King</td>\n",
              "    </tr>\n",
              "    <tr>\n",
              "      <th>2</th>\n",
              "      <td>1273421</td>\n",
              "      <td>gina</td>\n",
              "      <td>b</td>\n",
              "      <td>Lucca</td>\n",
              "      <td>gina Lucca</td>\n",
              "    </tr>\n",
              "  </tbody>\n",
              "</table>\n",
              "</div>"
            ],
            "text/plain": [
              "        ID First Name grade_ Last Name    Full Name\n",
              "0  1123451     steven      a       Tim   steven Tim\n",
              "1  2341567     george     a+      King  george King\n",
              "2  1273421       gina      b     Lucca   gina Lucca"
            ]
          },
          "metadata": {
            "tags": []
          },
          "execution_count": 60
        }
      ]
    },
    {
      "cell_type": "code",
      "metadata": {
        "id": "JxW1XgR0fhSi",
        "colab_type": "code",
        "colab": {
          "base_uri": "https://localhost:8080/",
          "height": 142
        },
        "outputId": "4c65f363-11a0-4bcd-c3c9-c0a2f821597c"
      },
      "source": [
        "df_student.drop(columns=['First Name'],inplace=True)\n",
        "df_student"
      ],
      "execution_count": 65,
      "outputs": [
        {
          "output_type": "execute_result",
          "data": {
            "text/html": [
              "<div>\n",
              "<style scoped>\n",
              "    .dataframe tbody tr th:only-of-type {\n",
              "        vertical-align: middle;\n",
              "    }\n",
              "\n",
              "    .dataframe tbody tr th {\n",
              "        vertical-align: top;\n",
              "    }\n",
              "\n",
              "    .dataframe thead th {\n",
              "        text-align: right;\n",
              "    }\n",
              "</style>\n",
              "<table border=\"1\" class=\"dataframe\">\n",
              "  <thead>\n",
              "    <tr style=\"text-align: right;\">\n",
              "      <th></th>\n",
              "      <th>ID</th>\n",
              "      <th>grade_</th>\n",
              "      <th>Full Name</th>\n",
              "    </tr>\n",
              "  </thead>\n",
              "  <tbody>\n",
              "    <tr>\n",
              "      <th>0</th>\n",
              "      <td>1123451</td>\n",
              "      <td>a</td>\n",
              "      <td>steven Tim</td>\n",
              "    </tr>\n",
              "    <tr>\n",
              "      <th>1</th>\n",
              "      <td>2341567</td>\n",
              "      <td>a+</td>\n",
              "      <td>george King</td>\n",
              "    </tr>\n",
              "    <tr>\n",
              "      <th>2</th>\n",
              "      <td>1273421</td>\n",
              "      <td>b</td>\n",
              "      <td>gina Lucca</td>\n",
              "    </tr>\n",
              "  </tbody>\n",
              "</table>\n",
              "</div>"
            ],
            "text/plain": [
              "        ID grade_    Full Name\n",
              "0  1123451      a   steven Tim\n",
              "1  2341567     a+  george King\n",
              "2  1273421      b   gina Lucca"
            ]
          },
          "metadata": {
            "tags": []
          },
          "execution_count": 65
        }
      ]
    },
    {
      "cell_type": "code",
      "metadata": {
        "id": "R5-Ocn7nfq2D",
        "colab_type": "code",
        "colab": {
          "base_uri": "https://localhost:8080/",
          "height": 142
        },
        "outputId": "82950e25-1b43-4999-ac28-f2678d16a9af"
      },
      "source": [
        "df_student[['First Name' ,'Last Name']]=df_student['Full Name'].str.split(' ', expand=True)\n",
        "df_student"
      ],
      "execution_count": 68,
      "outputs": [
        {
          "output_type": "execute_result",
          "data": {
            "text/html": [
              "<div>\n",
              "<style scoped>\n",
              "    .dataframe tbody tr th:only-of-type {\n",
              "        vertical-align: middle;\n",
              "    }\n",
              "\n",
              "    .dataframe tbody tr th {\n",
              "        vertical-align: top;\n",
              "    }\n",
              "\n",
              "    .dataframe thead th {\n",
              "        text-align: right;\n",
              "    }\n",
              "</style>\n",
              "<table border=\"1\" class=\"dataframe\">\n",
              "  <thead>\n",
              "    <tr style=\"text-align: right;\">\n",
              "      <th></th>\n",
              "      <th>ID</th>\n",
              "      <th>grade_</th>\n",
              "      <th>Full Name</th>\n",
              "      <th>First Name</th>\n",
              "      <th>Last Name</th>\n",
              "    </tr>\n",
              "  </thead>\n",
              "  <tbody>\n",
              "    <tr>\n",
              "      <th>0</th>\n",
              "      <td>1123451</td>\n",
              "      <td>a</td>\n",
              "      <td>steven Tim</td>\n",
              "      <td>steven</td>\n",
              "      <td>Tim</td>\n",
              "    </tr>\n",
              "    <tr>\n",
              "      <th>1</th>\n",
              "      <td>2341567</td>\n",
              "      <td>a+</td>\n",
              "      <td>george King</td>\n",
              "      <td>george</td>\n",
              "      <td>King</td>\n",
              "    </tr>\n",
              "    <tr>\n",
              "      <th>2</th>\n",
              "      <td>1273421</td>\n",
              "      <td>b</td>\n",
              "      <td>gina Lucca</td>\n",
              "      <td>gina</td>\n",
              "      <td>Lucca</td>\n",
              "    </tr>\n",
              "  </tbody>\n",
              "</table>\n",
              "</div>"
            ],
            "text/plain": [
              "        ID grade_    Full Name First Name Last Name\n",
              "0  1123451      a   steven Tim     steven       Tim\n",
              "1  2341567     a+  george King     george      King\n",
              "2  1273421      b   gina Lucca       gina     Lucca"
            ]
          },
          "metadata": {
            "tags": []
          },
          "execution_count": 68
        }
      ]
    },
    {
      "cell_type": "code",
      "metadata": {
        "id": "8vXFVEe2kJzN",
        "colab_type": "code",
        "colab": {
          "base_uri": "https://localhost:8080/",
          "height": 173
        },
        "outputId": "b3aa4a09-9d33-41bf-a3fa-179dd2770936"
      },
      "source": [
        "# add one more row\n",
        "df_student.append({'ID':'1234567'}, ignore_index=True)"
      ],
      "execution_count": 69,
      "outputs": [
        {
          "output_type": "execute_result",
          "data": {
            "text/html": [
              "<div>\n",
              "<style scoped>\n",
              "    .dataframe tbody tr th:only-of-type {\n",
              "        vertical-align: middle;\n",
              "    }\n",
              "\n",
              "    .dataframe tbody tr th {\n",
              "        vertical-align: top;\n",
              "    }\n",
              "\n",
              "    .dataframe thead th {\n",
              "        text-align: right;\n",
              "    }\n",
              "</style>\n",
              "<table border=\"1\" class=\"dataframe\">\n",
              "  <thead>\n",
              "    <tr style=\"text-align: right;\">\n",
              "      <th></th>\n",
              "      <th>ID</th>\n",
              "      <th>grade_</th>\n",
              "      <th>Full Name</th>\n",
              "      <th>First Name</th>\n",
              "      <th>Last Name</th>\n",
              "    </tr>\n",
              "  </thead>\n",
              "  <tbody>\n",
              "    <tr>\n",
              "      <th>0</th>\n",
              "      <td>1123451</td>\n",
              "      <td>a</td>\n",
              "      <td>steven Tim</td>\n",
              "      <td>steven</td>\n",
              "      <td>Tim</td>\n",
              "    </tr>\n",
              "    <tr>\n",
              "      <th>1</th>\n",
              "      <td>2341567</td>\n",
              "      <td>a+</td>\n",
              "      <td>george King</td>\n",
              "      <td>george</td>\n",
              "      <td>King</td>\n",
              "    </tr>\n",
              "    <tr>\n",
              "      <th>2</th>\n",
              "      <td>1273421</td>\n",
              "      <td>b</td>\n",
              "      <td>gina Lucca</td>\n",
              "      <td>gina</td>\n",
              "      <td>Lucca</td>\n",
              "    </tr>\n",
              "    <tr>\n",
              "      <th>3</th>\n",
              "      <td>1234567</td>\n",
              "      <td>NaN</td>\n",
              "      <td>NaN</td>\n",
              "      <td>NaN</td>\n",
              "      <td>NaN</td>\n",
              "    </tr>\n",
              "  </tbody>\n",
              "</table>\n",
              "</div>"
            ],
            "text/plain": [
              "        ID grade_    Full Name First Name Last Name\n",
              "0  1123451      a   steven Tim     steven       Tim\n",
              "1  2341567     a+  george King     george      King\n",
              "2  1273421      b   gina Lucca       gina     Lucca\n",
              "3  1234567    NaN          NaN        NaN       NaN"
            ]
          },
          "metadata": {
            "tags": []
          },
          "execution_count": 69
        }
      ]
    },
    {
      "cell_type": "code",
      "metadata": {
        "id": "pIQo4fAEl0i0",
        "colab_type": "code",
        "colab": {}
      },
      "source": [
        "student2 = {\n",
        "    'ID': [3688983, 3215467],\n",
        "    'First Name':['Lisa','Key']\n",
        "}"
      ],
      "execution_count": 0,
      "outputs": []
    },
    {
      "cell_type": "code",
      "metadata": {
        "id": "tVsB8_hVmKNL",
        "colab_type": "code",
        "colab": {
          "base_uri": "https://localhost:8080/",
          "height": 111
        },
        "outputId": "5a2c2ae9-15ab-40f7-a230-32aec19279db"
      },
      "source": [
        "df_student2 = pd.DataFrame(student2)\n",
        "df_student2"
      ],
      "execution_count": 73,
      "outputs": [
        {
          "output_type": "execute_result",
          "data": {
            "text/html": [
              "<div>\n",
              "<style scoped>\n",
              "    .dataframe tbody tr th:only-of-type {\n",
              "        vertical-align: middle;\n",
              "    }\n",
              "\n",
              "    .dataframe tbody tr th {\n",
              "        vertical-align: top;\n",
              "    }\n",
              "\n",
              "    .dataframe thead th {\n",
              "        text-align: right;\n",
              "    }\n",
              "</style>\n",
              "<table border=\"1\" class=\"dataframe\">\n",
              "  <thead>\n",
              "    <tr style=\"text-align: right;\">\n",
              "      <th></th>\n",
              "      <th>ID</th>\n",
              "      <th>First Name</th>\n",
              "    </tr>\n",
              "  </thead>\n",
              "  <tbody>\n",
              "    <tr>\n",
              "      <th>0</th>\n",
              "      <td>3688983</td>\n",
              "      <td>Lisa</td>\n",
              "    </tr>\n",
              "    <tr>\n",
              "      <th>1</th>\n",
              "      <td>3215467</td>\n",
              "      <td>Key</td>\n",
              "    </tr>\n",
              "  </tbody>\n",
              "</table>\n",
              "</div>"
            ],
            "text/plain": [
              "        ID First Name\n",
              "0  3688983       Lisa\n",
              "1  3215467        Key"
            ]
          },
          "metadata": {
            "tags": []
          },
          "execution_count": 73
        }
      ]
    },
    {
      "cell_type": "code",
      "metadata": {
        "id": "2DGB6-tXmTVE",
        "colab_type": "code",
        "colab": {
          "base_uri": "https://localhost:8080/",
          "height": 266
        },
        "outputId": "f02b375f-2c28-4546-a19e-00c868af283c"
      },
      "source": [
        "df_student=df_student.append(df_student2,ignore_index=True)\n",
        "df_student"
      ],
      "execution_count": 76,
      "outputs": [
        {
          "output_type": "execute_result",
          "data": {
            "text/html": [
              "<div>\n",
              "<style scoped>\n",
              "    .dataframe tbody tr th:only-of-type {\n",
              "        vertical-align: middle;\n",
              "    }\n",
              "\n",
              "    .dataframe tbody tr th {\n",
              "        vertical-align: top;\n",
              "    }\n",
              "\n",
              "    .dataframe thead th {\n",
              "        text-align: right;\n",
              "    }\n",
              "</style>\n",
              "<table border=\"1\" class=\"dataframe\">\n",
              "  <thead>\n",
              "    <tr style=\"text-align: right;\">\n",
              "      <th></th>\n",
              "      <th>ID</th>\n",
              "      <th>grade_</th>\n",
              "      <th>Full Name</th>\n",
              "      <th>First Name</th>\n",
              "      <th>Last Name</th>\n",
              "    </tr>\n",
              "  </thead>\n",
              "  <tbody>\n",
              "    <tr>\n",
              "      <th>0</th>\n",
              "      <td>1123451</td>\n",
              "      <td>a</td>\n",
              "      <td>steven Tim</td>\n",
              "      <td>steven</td>\n",
              "      <td>Tim</td>\n",
              "    </tr>\n",
              "    <tr>\n",
              "      <th>1</th>\n",
              "      <td>2341567</td>\n",
              "      <td>a+</td>\n",
              "      <td>george King</td>\n",
              "      <td>george</td>\n",
              "      <td>King</td>\n",
              "    </tr>\n",
              "    <tr>\n",
              "      <th>2</th>\n",
              "      <td>1273421</td>\n",
              "      <td>b</td>\n",
              "      <td>gina Lucca</td>\n",
              "      <td>gina</td>\n",
              "      <td>Lucca</td>\n",
              "    </tr>\n",
              "    <tr>\n",
              "      <th>3</th>\n",
              "      <td>3688983</td>\n",
              "      <td>NaN</td>\n",
              "      <td>NaN</td>\n",
              "      <td>Lisa</td>\n",
              "      <td>NaN</td>\n",
              "    </tr>\n",
              "    <tr>\n",
              "      <th>4</th>\n",
              "      <td>3215467</td>\n",
              "      <td>NaN</td>\n",
              "      <td>NaN</td>\n",
              "      <td>Key</td>\n",
              "      <td>NaN</td>\n",
              "    </tr>\n",
              "    <tr>\n",
              "      <th>5</th>\n",
              "      <td>3688983</td>\n",
              "      <td>NaN</td>\n",
              "      <td>NaN</td>\n",
              "      <td>Lisa</td>\n",
              "      <td>NaN</td>\n",
              "    </tr>\n",
              "    <tr>\n",
              "      <th>6</th>\n",
              "      <td>3215467</td>\n",
              "      <td>NaN</td>\n",
              "      <td>NaN</td>\n",
              "      <td>Key</td>\n",
              "      <td>NaN</td>\n",
              "    </tr>\n",
              "  </tbody>\n",
              "</table>\n",
              "</div>"
            ],
            "text/plain": [
              "        ID grade_    Full Name First Name Last Name\n",
              "0  1123451      a   steven Tim     steven       Tim\n",
              "1  2341567     a+  george King     george      King\n",
              "2  1273421      b   gina Lucca       gina     Lucca\n",
              "3  3688983    NaN          NaN       Lisa       NaN\n",
              "4  3215467    NaN          NaN        Key       NaN\n",
              "5  3688983    NaN          NaN       Lisa       NaN\n",
              "6  3215467    NaN          NaN        Key       NaN"
            ]
          },
          "metadata": {
            "tags": []
          },
          "execution_count": 76
        }
      ]
    },
    {
      "cell_type": "code",
      "metadata": {
        "id": "TSQdDPDPnAjf",
        "colab_type": "code",
        "colab": {
          "base_uri": "https://localhost:8080/",
          "height": 204
        },
        "outputId": "91eba785-60ad-412e-a4f8-1684935fd55a"
      },
      "source": [
        "df_student.drop(index=[3,6])"
      ],
      "execution_count": 79,
      "outputs": [
        {
          "output_type": "execute_result",
          "data": {
            "text/html": [
              "<div>\n",
              "<style scoped>\n",
              "    .dataframe tbody tr th:only-of-type {\n",
              "        vertical-align: middle;\n",
              "    }\n",
              "\n",
              "    .dataframe tbody tr th {\n",
              "        vertical-align: top;\n",
              "    }\n",
              "\n",
              "    .dataframe thead th {\n",
              "        text-align: right;\n",
              "    }\n",
              "</style>\n",
              "<table border=\"1\" class=\"dataframe\">\n",
              "  <thead>\n",
              "    <tr style=\"text-align: right;\">\n",
              "      <th></th>\n",
              "      <th>ID</th>\n",
              "      <th>grade_</th>\n",
              "      <th>Full Name</th>\n",
              "      <th>First Name</th>\n",
              "      <th>Last Name</th>\n",
              "    </tr>\n",
              "  </thead>\n",
              "  <tbody>\n",
              "    <tr>\n",
              "      <th>0</th>\n",
              "      <td>1123451</td>\n",
              "      <td>a</td>\n",
              "      <td>steven Tim</td>\n",
              "      <td>steven</td>\n",
              "      <td>Tim</td>\n",
              "    </tr>\n",
              "    <tr>\n",
              "      <th>1</th>\n",
              "      <td>2341567</td>\n",
              "      <td>a+</td>\n",
              "      <td>george King</td>\n",
              "      <td>george</td>\n",
              "      <td>King</td>\n",
              "    </tr>\n",
              "    <tr>\n",
              "      <th>2</th>\n",
              "      <td>1273421</td>\n",
              "      <td>b</td>\n",
              "      <td>gina Lucca</td>\n",
              "      <td>gina</td>\n",
              "      <td>Lucca</td>\n",
              "    </tr>\n",
              "    <tr>\n",
              "      <th>4</th>\n",
              "      <td>3215467</td>\n",
              "      <td>NaN</td>\n",
              "      <td>NaN</td>\n",
              "      <td>Key</td>\n",
              "      <td>NaN</td>\n",
              "    </tr>\n",
              "    <tr>\n",
              "      <th>5</th>\n",
              "      <td>3688983</td>\n",
              "      <td>NaN</td>\n",
              "      <td>NaN</td>\n",
              "      <td>Lisa</td>\n",
              "      <td>NaN</td>\n",
              "    </tr>\n",
              "  </tbody>\n",
              "</table>\n",
              "</div>"
            ],
            "text/plain": [
              "        ID grade_    Full Name First Name Last Name\n",
              "0  1123451      a   steven Tim     steven       Tim\n",
              "1  2341567     a+  george King     george      King\n",
              "2  1273421      b   gina Lucca       gina     Lucca\n",
              "4  3215467    NaN          NaN        Key       NaN\n",
              "5  3688983    NaN          NaN       Lisa       NaN"
            ]
          },
          "metadata": {
            "tags": []
          },
          "execution_count": 79
        }
      ]
    },
    {
      "cell_type": "code",
      "metadata": {
        "id": "_GRSkWXFnDig",
        "colab_type": "code",
        "colab": {
          "base_uri": "https://localhost:8080/",
          "height": 204
        },
        "outputId": "57725c53-0c49-4147-fa3d-fec8d8ad0df8"
      },
      "source": [
        "cond3 = df_student['ID']==3688983\n",
        "df_student.drop(index=df_student[cond3].index)"
      ],
      "execution_count": 81,
      "outputs": [
        {
          "output_type": "execute_result",
          "data": {
            "text/html": [
              "<div>\n",
              "<style scoped>\n",
              "    .dataframe tbody tr th:only-of-type {\n",
              "        vertical-align: middle;\n",
              "    }\n",
              "\n",
              "    .dataframe tbody tr th {\n",
              "        vertical-align: top;\n",
              "    }\n",
              "\n",
              "    .dataframe thead th {\n",
              "        text-align: right;\n",
              "    }\n",
              "</style>\n",
              "<table border=\"1\" class=\"dataframe\">\n",
              "  <thead>\n",
              "    <tr style=\"text-align: right;\">\n",
              "      <th></th>\n",
              "      <th>ID</th>\n",
              "      <th>grade_</th>\n",
              "      <th>Full Name</th>\n",
              "      <th>First Name</th>\n",
              "      <th>Last Name</th>\n",
              "    </tr>\n",
              "  </thead>\n",
              "  <tbody>\n",
              "    <tr>\n",
              "      <th>0</th>\n",
              "      <td>1123451</td>\n",
              "      <td>a</td>\n",
              "      <td>steven Tim</td>\n",
              "      <td>steven</td>\n",
              "      <td>Tim</td>\n",
              "    </tr>\n",
              "    <tr>\n",
              "      <th>1</th>\n",
              "      <td>2341567</td>\n",
              "      <td>a+</td>\n",
              "      <td>george King</td>\n",
              "      <td>george</td>\n",
              "      <td>King</td>\n",
              "    </tr>\n",
              "    <tr>\n",
              "      <th>2</th>\n",
              "      <td>1273421</td>\n",
              "      <td>b</td>\n",
              "      <td>gina Lucca</td>\n",
              "      <td>gina</td>\n",
              "      <td>Lucca</td>\n",
              "    </tr>\n",
              "    <tr>\n",
              "      <th>4</th>\n",
              "      <td>3215467</td>\n",
              "      <td>NaN</td>\n",
              "      <td>NaN</td>\n",
              "      <td>Key</td>\n",
              "      <td>NaN</td>\n",
              "    </tr>\n",
              "    <tr>\n",
              "      <th>6</th>\n",
              "      <td>3215467</td>\n",
              "      <td>NaN</td>\n",
              "      <td>NaN</td>\n",
              "      <td>Key</td>\n",
              "      <td>NaN</td>\n",
              "    </tr>\n",
              "  </tbody>\n",
              "</table>\n",
              "</div>"
            ],
            "text/plain": [
              "        ID grade_    Full Name First Name Last Name\n",
              "0  1123451      a   steven Tim     steven       Tim\n",
              "1  2341567     a+  george King     george      King\n",
              "2  1273421      b   gina Lucca       gina     Lucca\n",
              "4  3215467    NaN          NaN        Key       NaN\n",
              "6  3215467    NaN          NaN        Key       NaN"
            ]
          },
          "metadata": {
            "tags": []
          },
          "execution_count": 81
        }
      ]
    },
    {
      "cell_type": "code",
      "metadata": {
        "id": "ZDDPcUmrrVks",
        "colab_type": "code",
        "colab": {
          "base_uri": "https://localhost:8080/",
          "height": 266
        },
        "outputId": "e0e1d7f7-9e97-460d-dd51-ec1cd252e58e"
      },
      "source": [
        "df_student.sort_values(by=['Full Name','Last Name'],ascending=False)"
      ],
      "execution_count": 91,
      "outputs": [
        {
          "output_type": "execute_result",
          "data": {
            "text/html": [
              "<div>\n",
              "<style scoped>\n",
              "    .dataframe tbody tr th:only-of-type {\n",
              "        vertical-align: middle;\n",
              "    }\n",
              "\n",
              "    .dataframe tbody tr th {\n",
              "        vertical-align: top;\n",
              "    }\n",
              "\n",
              "    .dataframe thead th {\n",
              "        text-align: right;\n",
              "    }\n",
              "</style>\n",
              "<table border=\"1\" class=\"dataframe\">\n",
              "  <thead>\n",
              "    <tr style=\"text-align: right;\">\n",
              "      <th></th>\n",
              "      <th>ID</th>\n",
              "      <th>grade_</th>\n",
              "      <th>Full Name</th>\n",
              "      <th>First Name</th>\n",
              "      <th>Last Name</th>\n",
              "    </tr>\n",
              "  </thead>\n",
              "  <tbody>\n",
              "    <tr>\n",
              "      <th>0</th>\n",
              "      <td>1123451</td>\n",
              "      <td>a</td>\n",
              "      <td>steven Tim</td>\n",
              "      <td>steven</td>\n",
              "      <td>Tim</td>\n",
              "    </tr>\n",
              "    <tr>\n",
              "      <th>2</th>\n",
              "      <td>1273421</td>\n",
              "      <td>b</td>\n",
              "      <td>gina Lucca</td>\n",
              "      <td>gina</td>\n",
              "      <td>Lucca</td>\n",
              "    </tr>\n",
              "    <tr>\n",
              "      <th>1</th>\n",
              "      <td>2341567</td>\n",
              "      <td>a+</td>\n",
              "      <td>george King</td>\n",
              "      <td>george</td>\n",
              "      <td>King</td>\n",
              "    </tr>\n",
              "    <tr>\n",
              "      <th>3</th>\n",
              "      <td>3688983</td>\n",
              "      <td>NaN</td>\n",
              "      <td>NaN</td>\n",
              "      <td>Lisa</td>\n",
              "      <td>NaN</td>\n",
              "    </tr>\n",
              "    <tr>\n",
              "      <th>4</th>\n",
              "      <td>3215467</td>\n",
              "      <td>NaN</td>\n",
              "      <td>NaN</td>\n",
              "      <td>Key</td>\n",
              "      <td>NaN</td>\n",
              "    </tr>\n",
              "    <tr>\n",
              "      <th>5</th>\n",
              "      <td>3688983</td>\n",
              "      <td>NaN</td>\n",
              "      <td>NaN</td>\n",
              "      <td>Lisa</td>\n",
              "      <td>NaN</td>\n",
              "    </tr>\n",
              "    <tr>\n",
              "      <th>6</th>\n",
              "      <td>3215467</td>\n",
              "      <td>NaN</td>\n",
              "      <td>NaN</td>\n",
              "      <td>Key</td>\n",
              "      <td>NaN</td>\n",
              "    </tr>\n",
              "  </tbody>\n",
              "</table>\n",
              "</div>"
            ],
            "text/plain": [
              "        ID grade_    Full Name First Name Last Name\n",
              "0  1123451      a   steven Tim     steven       Tim\n",
              "2  1273421      b   gina Lucca       gina     Lucca\n",
              "1  2341567     a+  george King     george      King\n",
              "3  3688983    NaN          NaN       Lisa       NaN\n",
              "4  3215467    NaN          NaN        Key       NaN\n",
              "5  3688983    NaN          NaN       Lisa       NaN\n",
              "6  3215467    NaN          NaN        Key       NaN"
            ]
          },
          "metadata": {
            "tags": []
          },
          "execution_count": 91
        }
      ]
    }
  ]
}